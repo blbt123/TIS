{
  "nbformat": 4,
  "nbformat_minor": 0,
  "metadata": {
    "colab": {
      "provenance": [],
      "authorship_tag": "ABX9TyPncpAiNioqnMFsio2HKUBH",
      "include_colab_link": true
    },
    "kernelspec": {
      "name": "python3",
      "display_name": "Python 3"
    },
    "language_info": {
      "name": "python"
    }
  },
  "cells": [
    {
      "cell_type": "markdown",
      "metadata": {
        "id": "view-in-github",
        "colab_type": "text"
      },
      "source": [
        "<a href=\"https://colab.research.google.com/github/blbt123/TIS/blob/main/2023_02_14.ipynb\" target=\"_parent\"><img src=\"https://colab.research.google.com/assets/colab-badge.svg\" alt=\"Open In Colab\"/></a>"
      ]
    },
    {
      "cell_type": "code",
      "source": [
        "l = [1, 2, 3]\n",
        "print(l)\n",
        "\n",
        "l2 = [1, \"a\", [1,2,3]]\n",
        "print(l2)"
      ],
      "metadata": {
        "colab": {
          "base_uri": "https://localhost:8080/",
          "height": 0
        },
        "id": "wZR28q_KSkwa",
        "outputId": "00a79cd1-ec56-4123-eb70-7a9b8be81e80"
      },
      "execution_count": 13,
      "outputs": [
        {
          "output_type": "stream",
          "name": "stdout",
          "text": [
            "[1, 2, 3]\n",
            "[1, 'a', [1, 2, 3]]\n"
          ]
        }
      ]
    },
    {
      "cell_type": "code",
      "source": [
        "import numpy as np\n",
        "arr = np.array([1,2,3,4])\n",
        "arr1 = np.array([1,2,3,4.0])\n",
        "arr2 = np.array([1,2,3,\"4.0\"])"
      ],
      "metadata": {
        "id": "s77vxYOqU0op"
      },
      "execution_count": 20,
      "outputs": []
    },
    {
      "cell_type": "code",
      "source": [
        "print(type(arr))\n",
        "print(type(arr1))\n",
        "print(type(arr2))"
      ],
      "metadata": {
        "colab": {
          "base_uri": "https://localhost:8080/",
          "height": 0
        },
        "id": "pntXz767XsQY",
        "outputId": "cadb8016-209a-4a53-a812-7d686aca7e9d"
      },
      "execution_count": 21,
      "outputs": [
        {
          "output_type": "stream",
          "name": "stdout",
          "text": [
            "<class 'numpy.ndarray'>\n",
            "<class 'numpy.ndarray'>\n",
            "<class 'numpy.ndarray'>\n"
          ]
        }
      ]
    },
    {
      "cell_type": "code",
      "source": [
        "print(arr, arr.dtype)\n",
        "print(arr1, arr1.dtype)\n",
        "print(arr2, arr2.dtype)"
      ],
      "metadata": {
        "colab": {
          "base_uri": "https://localhost:8080/",
          "height": 0
        },
        "id": "ubYj7mzvX27j",
        "outputId": "f7838559-738b-4980-a479-46c1a0afcbeb"
      },
      "execution_count": 22,
      "outputs": [
        {
          "output_type": "stream",
          "name": "stdout",
          "text": [
            "[1 2 3 4] int64\n",
            "[1. 2. 3. 4.] float64\n",
            "['1' '2' '3' '4.0'] <U21\n"
          ]
        }
      ]
    },
    {
      "cell_type": "code",
      "source": [
        "arr3 = np.array([1,2,3,4])\n",
        "print(arr3)\n",
        "\n",
        "arr4 = np.array([[1,2,3],[4,5,6]])\n",
        "print(arr4)\n",
        "\n",
        "arr5 = np.array([[[1,2],[3,4]],[[5,6],[7,8]]])\n",
        "print(arr5)"
      ],
      "metadata": {
        "colab": {
          "base_uri": "https://localhost:8080/",
          "height": 0
        },
        "id": "Fd8Ih5p5Yb_O",
        "outputId": "0669af10-dec2-4f73-83c1-9cc8e276c6bc"
      },
      "execution_count": 26,
      "outputs": [
        {
          "output_type": "stream",
          "name": "stdout",
          "text": [
            "[1 2 3 4]\n",
            "[[1 2 3]\n",
            " [4 5 6]]\n",
            "[[[1 2]\n",
            "  [3 4]]\n",
            "\n",
            " [[5 6]\n",
            "  [7 8]]]\n"
          ]
        }
      ]
    },
    {
      "cell_type": "code",
      "source": [
        "arr1 = np.array([1, 2, 3]) # 1차원, 백터형태\n",
        "arr2 = np.array([[1, 2, 3], [4, 5, 6]]) # 2차원, 행렬형태\n",
        "arr3 = np.array([[[1, 2], [3, 4]], [[5, 6], [7, 8]]]) # 3차원\n",
        "\n",
        "# 형태(shape)확인\n",
        "print(arr1.shape)\n",
        "print(arr2.shape)\n",
        "print(arr3.shape)\n",
        "\n",
        "# 차원(dimension)확인\n",
        "print(arr1.ndim)\n",
        "print(arr2.ndim)\n",
        "print(arr3.ndim)"
      ],
      "metadata": {
        "colab": {
          "base_uri": "https://localhost:8080/",
          "height": 0
        },
        "id": "OElZPasDZZJ2",
        "outputId": "4cd03771-6c7f-4205-de8d-15787f470b4b"
      },
      "execution_count": 29,
      "outputs": [
        {
          "output_type": "stream",
          "name": "stdout",
          "text": [
            "(3,)\n",
            "(2, 3)\n",
            "(2, 2, 2)\n",
            "1\n",
            "2\n",
            "3\n"
          ]
        }
      ]
    },
    {
      "cell_type": "code",
      "source": [
        "# 1.크기가 (4)인 1차원 넘파이 배열을 생성하고 차원 및 형태를 출력해 보세요 \n",
        "# 2.크기가 (4,3)인 2차원 넘파이 배열을 생성하고 차원 및 형태를 출력해 보세요\n",
        "\n",
        "arr1 = np.array([1,2,3,4])\n",
        "arr2 = np.array([[1,2,3],[4,5,6],[7,8,9],[10,11,12]])\n",
        "\n",
        "print(\"1번 답\")\n",
        "print(arr1.shape)\n",
        "print(arr1.ndim)\n",
        "\n",
        "print(\"2번 답\")\n",
        "print(arr2.shape)\n",
        "print(arr2.ndim)\n",
        "\n",
        "# 강사님 답\n",
        "\n",
        "# a = np.array([100,200,300,400])\n",
        "# arr1 = np.array(a)\n",
        "# print(arr1.shape)\n",
        "# print(arr1.ndim)\n",
        "\n",
        "# b = np.array([[100,200,300],[400,500,600],[700,800,900],[1000,1100,1200]])\n",
        "# arr2 = np.array(b)\n",
        "# print(\"2번 답\")\n",
        "# print(arr2.shape)\n",
        "# print(arr2.ndim)\n",
        "\n",
        "display(arr2) # 프린트보다 좀더 깔끔"
      ],
      "metadata": {
        "colab": {
          "base_uri": "https://localhost:8080/",
          "height": 199
        },
        "id": "7c8KujI0c40t",
        "outputId": "0f943b2c-1f10-41f7-d9d9-b1b14f90a372"
      },
      "execution_count": 34,
      "outputs": [
        {
          "output_type": "stream",
          "name": "stdout",
          "text": [
            "1번 답\n",
            "(4,)\n",
            "1\n",
            "2번 답\n",
            "(4, 3)\n",
            "2\n"
          ]
        },
        {
          "output_type": "display_data",
          "data": {
            "text/plain": [
              "array([[ 1,  2,  3],\n",
              "       [ 4,  5,  6],\n",
              "       [ 7,  8,  9],\n",
              "       [10, 11, 12]])"
            ]
          },
          "metadata": {}
        }
      ]
    },
    {
      "cell_type": "code",
      "source": [
        "a = list(range(10))\n",
        "\n",
        "print(a)"
      ],
      "metadata": {
        "colab": {
          "base_uri": "https://localhost:8080/"
        },
        "id": "9W1Req_eguu0",
        "outputId": "d3347f19-0cf2-4f7e-e351-d06c1a1c6495"
      },
      "execution_count": 38,
      "outputs": [
        {
          "output_type": "stream",
          "name": "stdout",
          "text": [
            "[0, 1, 2, 3, 4, 5, 6, 7, 8, 9]\n"
          ]
        }
      ]
    },
    {
      "cell_type": "code",
      "source": [
        "arr1 = np.arange(5)\n",
        "arr2 = np.arange(0,5,1)\n",
        "display(arr1)\n",
        "display(arr2)"
      ],
      "metadata": {
        "colab": {
          "base_uri": "https://localhost:8080/",
          "height": 53
        },
        "id": "RnhyfqNziqks",
        "outputId": "29ff1039-cdbc-4efc-c4d1-14096b9edd1a"
      },
      "execution_count": 40,
      "outputs": [
        {
          "output_type": "display_data",
          "data": {
            "text/plain": [
              "array([0, 1, 2, 3, 4])"
            ]
          },
          "metadata": {}
        },
        {
          "output_type": "display_data",
          "data": {
            "text/plain": [
              "array([0, 1, 2, 3, 4])"
            ]
          },
          "metadata": {}
        }
      ]
    },
    {
      "cell_type": "code",
      "source": [
        "arr3 = np.arange(-1, 4.5, 1.5)\n",
        "display(arr3)"
      ],
      "metadata": {
        "colab": {
          "base_uri": "https://localhost:8080/",
          "height": 35
        },
        "id": "j6tn3Ey6jjL8",
        "outputId": "4247f221-ba29-4e47-9921-f0b34f81f4cc"
      },
      "execution_count": 42,
      "outputs": [
        {
          "output_type": "display_data",
          "data": {
            "text/plain": [
              "array([-1. ,  0.5,  2. ,  3.5])"
            ]
          },
          "metadata": {}
        }
      ]
    },
    {
      "cell_type": "code",
      "source": [
        "arr4 = np.arange(10, 1, -1)\n",
        "arr4"
      ],
      "metadata": {
        "colab": {
          "base_uri": "https://localhost:8080/"
        },
        "id": "MED2r88LjyMO",
        "outputId": "73b52258-7a3d-40bb-b553-163c57f15147"
      },
      "execution_count": 45,
      "outputs": [
        {
          "output_type": "execute_result",
          "data": {
            "text/plain": [
              "array([10,  9,  8,  7,  6,  5,  4,  3,  2])"
            ]
          },
          "metadata": {},
          "execution_count": 45
        }
      ]
    },
    {
      "cell_type": "code",
      "source": [
        "arr5 = np.linspace(0,1,11)\n",
        "arr5"
      ],
      "metadata": {
        "colab": {
          "base_uri": "https://localhost:8080/"
        },
        "id": "r-RkrP2FkPUx",
        "outputId": "c9d82792-4cff-49fa-aeae-a4b226567233"
      },
      "execution_count": 46,
      "outputs": [
        {
          "output_type": "execute_result",
          "data": {
            "text/plain": [
              "array([0. , 0.1, 0.2, 0.3, 0.4, 0.5, 0.6, 0.7, 0.8, 0.9, 1. ])"
            ]
          },
          "metadata": {},
          "execution_count": 46
        }
      ]
    },
    {
      "cell_type": "code",
      "source": [
        "z1 = np.zeros(5)\n",
        "z1"
      ],
      "metadata": {
        "colab": {
          "base_uri": "https://localhost:8080/"
        },
        "id": "uBECS294kazb",
        "outputId": "1c996f0a-a840-4d86-e37e-8bb3c9f23000"
      },
      "execution_count": 48,
      "outputs": [
        {
          "output_type": "execute_result",
          "data": {
            "text/plain": [
              "array([0., 0., 0., 0., 0.])"
            ]
          },
          "metadata": {},
          "execution_count": 48
        }
      ]
    },
    {
      "cell_type": "code",
      "source": [
        "z2 = np.zeros((3,2))\n",
        "z2"
      ],
      "metadata": {
        "colab": {
          "base_uri": "https://localhost:8080/"
        },
        "id": "lNYV4ReIkzuZ",
        "outputId": "c4722fd6-14c7-4b3c-d21b-c142dfd12d40"
      },
      "execution_count": 53,
      "outputs": [
        {
          "output_type": "execute_result",
          "data": {
            "text/plain": [
              "array([[0., 0.],\n",
              "       [0., 0.],\n",
              "       [0., 0.]])"
            ]
          },
          "metadata": {},
          "execution_count": 53
        }
      ]
    },
    {
      "cell_type": "code",
      "source": [
        "z3 = np.zeros((3,2,4))\n",
        "display(z3)\n",
        "print(z3.ndim)"
      ],
      "metadata": {
        "colab": {
          "base_uri": "https://localhost:8080/",
          "height": 180
        },
        "id": "D4uFUth-lBVu",
        "outputId": "969421eb-91dd-49a8-b571-2c3befabd7ce"
      },
      "execution_count": 56,
      "outputs": [
        {
          "output_type": "display_data",
          "data": {
            "text/plain": [
              "array([[[0., 0., 0., 0.],\n",
              "        [0., 0., 0., 0.]],\n",
              "\n",
              "       [[0., 0., 0., 0.],\n",
              "        [0., 0., 0., 0.]],\n",
              "\n",
              "       [[0., 0., 0., 0.],\n",
              "        [0., 0., 0., 0.]]])"
            ]
          },
          "metadata": {}
        },
        {
          "output_type": "stream",
          "name": "stdout",
          "text": [
            "3\n"
          ]
        }
      ]
    },
    {
      "cell_type": "code",
      "source": [
        "z4 = np.zeros((2,2), dtype = bool)\n",
        "z4"
      ],
      "metadata": {
        "colab": {
          "base_uri": "https://localhost:8080/"
        },
        "id": "uWZItnaulUNs",
        "outputId": "ecd52a00-fc02-4b5f-ccd9-eca0bc9e6d5b"
      },
      "execution_count": 59,
      "outputs": [
        {
          "output_type": "execute_result",
          "data": {
            "text/plain": [
              "array([[False, False],\n",
              "       [False, False]])"
            ]
          },
          "metadata": {},
          "execution_count": 59
        }
      ]
    },
    {
      "cell_type": "code",
      "source": [
        "z5 = np.ones((2,2), dtype = bool)\n",
        "z5"
      ],
      "metadata": {
        "colab": {
          "base_uri": "https://localhost:8080/"
        },
        "id": "sQjVEkLEls6R",
        "outputId": "e2af53d7-f1d7-4899-ed77-6eb48fd81880"
      },
      "execution_count": 60,
      "outputs": [
        {
          "output_type": "execute_result",
          "data": {
            "text/plain": [
              "array([[ True,  True],\n",
              "       [ True,  True]])"
            ]
          },
          "metadata": {},
          "execution_count": 60
        }
      ]
    },
    {
      "cell_type": "code",
      "source": [
        "c = np.ones((5,2), dtype = \"i\") # 정확한 i의 표현은 int32 \n",
        "c"
      ],
      "metadata": {
        "colab": {
          "base_uri": "https://localhost:8080/"
        },
        "id": "5ILQROnml_Hd",
        "outputId": "6936a320-8111-477e-a634-b46338724c25"
      },
      "execution_count": 63,
      "outputs": [
        {
          "output_type": "execute_result",
          "data": {
            "text/plain": [
              "array([[1, 1],\n",
              "       [1, 1],\n",
              "       [1, 1],\n",
              "       [1, 1],\n",
              "       [1, 1]], dtype=int32)"
            ]
          },
          "metadata": {},
          "execution_count": 63
        }
      ]
    },
    {
      "cell_type": "code",
      "source": [
        "b = np.zeros((2,3))\n",
        "b"
      ],
      "metadata": {
        "colab": {
          "base_uri": "https://localhost:8080/"
        },
        "id": "2spIL_zMmGRF",
        "outputId": "241fc545-766d-4d2b-989a-3a198e5eec5b"
      },
      "execution_count": 66,
      "outputs": [
        {
          "output_type": "execute_result",
          "data": {
            "text/plain": [
              "array([[0., 0., 0.],\n",
              "       [0., 0., 0.]])"
            ]
          },
          "metadata": {},
          "execution_count": 66
        }
      ]
    },
    {
      "cell_type": "code",
      "source": [
        "f = np.ones_like(b, dtype=\"f\")\n",
        "f"
      ],
      "metadata": {
        "colab": {
          "base_uri": "https://localhost:8080/"
        },
        "id": "0Wvkst-1myUh",
        "outputId": "2a98b889-cd7b-4c8b-c465-a945b778cff3"
      },
      "execution_count": 68,
      "outputs": [
        {
          "output_type": "execute_result",
          "data": {
            "text/plain": [
              "array([[1., 1., 1.],\n",
              "       [1., 1., 1.]], dtype=float32)"
            ]
          },
          "metadata": {},
          "execution_count": 68
        }
      ]
    },
    {
      "cell_type": "code",
      "source": [
        "# 연습문제\n",
        "# 1. 5크기의 전부 0과 전부 1로 채워진 넘파이 배열을 생성하시오\n",
        "\n",
        "print(\"1번답\")\n",
        "z1 = np.zeros(5)\n",
        "o1 = np.ones(5)\n",
        "\n",
        "display(z1)\n",
        "display(o1)\n",
        "\n",
        "# 2. (3,4)크기의 전부 0과 전부 1로 채워진 넘파이 배열을 생성하고, 차원과 크기를 출력해 보세요.\n",
        "\n",
        "print(\"\\n2번답\")\n",
        "z2 = np.zeros((3,4))\n",
        "o2 = np.ones((3,4))\n",
        "\n",
        "display(z2)\n",
        "display(o2)\n",
        "print(z2.ndim,z2.shape)\n",
        "print(o2.ndim,o2.shape)\n",
        "\n",
        "# 3. 다음 배열(arr1)과 같은 크기를 같으며, 각각 0과 1로만 채워진 두개의 배열을 생성해 보세요\n",
        "\n",
        "arr1 = np.array([[1,2,3],[4,5,6]])\n",
        "z3 = np.zeros_like(arr1)\n",
        "o3 = np.ones_like(arr1)\n",
        "\n",
        "print(\"\\n3번답\")\n",
        "display(z3)\n",
        "display(o3)\n",
        "# 4. 다음 배열(arr2)과 같은 크기를 같으며, 각각 0과 1로만 채워진 두개의 배열을 생성해 보세요\n",
        "\n",
        "arr2 = np.array([[[1,2],[3,4]],[[5,6],[7,8]]])\n",
        "z4 = np.zeros_like(arr2)\n",
        "o4 = np.ones_like(arr2)\n",
        "\n",
        "print(\"\\n4번답\")\n",
        "display(z4)\n",
        "display(o4)"
      ],
      "metadata": {
        "colab": {
          "base_uri": "https://localhost:8080/",
          "height": 580
        },
        "id": "uspO7Mqcm-1N",
        "outputId": "55778e4b-5953-4eb2-8cf0-803455d9ad1f"
      },
      "execution_count": 80,
      "outputs": [
        {
          "output_type": "stream",
          "name": "stdout",
          "text": [
            "1번답\n"
          ]
        },
        {
          "output_type": "display_data",
          "data": {
            "text/plain": [
              "array([0., 0., 0., 0., 0.])"
            ]
          },
          "metadata": {}
        },
        {
          "output_type": "display_data",
          "data": {
            "text/plain": [
              "array([1., 1., 1., 1., 1.])"
            ]
          },
          "metadata": {}
        },
        {
          "output_type": "stream",
          "name": "stdout",
          "text": [
            "\n",
            "2번답\n"
          ]
        },
        {
          "output_type": "display_data",
          "data": {
            "text/plain": [
              "array([[0., 0., 0., 0.],\n",
              "       [0., 0., 0., 0.],\n",
              "       [0., 0., 0., 0.]])"
            ]
          },
          "metadata": {}
        },
        {
          "output_type": "display_data",
          "data": {
            "text/plain": [
              "array([[1., 1., 1., 1.],\n",
              "       [1., 1., 1., 1.],\n",
              "       [1., 1., 1., 1.]])"
            ]
          },
          "metadata": {}
        },
        {
          "output_type": "stream",
          "name": "stdout",
          "text": [
            "2 (3, 4)\n",
            "2 (3, 4)\n",
            "\n",
            "3번답\n"
          ]
        },
        {
          "output_type": "display_data",
          "data": {
            "text/plain": [
              "array([[0, 0, 0],\n",
              "       [0, 0, 0]])"
            ]
          },
          "metadata": {}
        },
        {
          "output_type": "display_data",
          "data": {
            "text/plain": [
              "array([[1, 1, 1],\n",
              "       [1, 1, 1]])"
            ]
          },
          "metadata": {}
        },
        {
          "output_type": "stream",
          "name": "stdout",
          "text": [
            "\n",
            "4번답\n"
          ]
        },
        {
          "output_type": "display_data",
          "data": {
            "text/plain": [
              "array([[[0, 0],\n",
              "        [0, 0]],\n",
              "\n",
              "       [[0, 0],\n",
              "        [0, 0]]])"
            ]
          },
          "metadata": {}
        },
        {
          "output_type": "display_data",
          "data": {
            "text/plain": [
              "array([[[1, 1],\n",
              "        [1, 1]],\n",
              "\n",
              "       [[1, 1],\n",
              "        [1, 1]]])"
            ]
          },
          "metadata": {}
        }
      ]
    },
    {
      "cell_type": "code",
      "source": [
        "arr1 = np.random.normal(0, 1, 5)\n",
        "arr2 = np.random.normal(10, 3, (3, 3))\n",
        "\n",
        "print(arr1)\n",
        "print(arr2)"
      ],
      "metadata": {
        "colab": {
          "base_uri": "https://localhost:8080/"
        },
        "id": "XVS2a0lhoLh4",
        "outputId": "93130813-60e7-4408-f7ee-ea181f518cd0"
      },
      "execution_count": 82,
      "outputs": [
        {
          "output_type": "stream",
          "name": "stdout",
          "text": [
            "[ 1.68254283 -1.09775148  0.69811483  0.14151048 -1.70913542]\n",
            "[[ 8.04106838 10.1607293   8.52514529]\n",
            " [10.21308558 13.74648216 12.70014907]\n",
            " [ 5.26746878  9.82423297 13.96656932]]\n"
          ]
        }
      ]
    },
    {
      "cell_type": "code",
      "source": [
        "# 1. 요소개수가 7개이고, 평균이 0, 분산이 1인 난수 넘파이 배열을 생성하세요.\n",
        "\n",
        "ran = np.random.normal(0, 1, 7)\n",
        "\n",
        "print(\"1\")\n",
        "print(ran)\n",
        "\n",
        "# 2. 다음 배열과 같은 크기의 평균 3, 분산 2인 난수 넘파이 배열을 생성하세요.\n",
        "arr = np.zeros((3,2)) \n",
        "\n",
        "print(\"\\n2\")\n",
        "print(np.random.normal(3, 2, arr.shape))"
      ],
      "metadata": {
        "colab": {
          "base_uri": "https://localhost:8080/"
        },
        "id": "gufk-VJ9w_ct",
        "outputId": "176d7ec9-5f11-4538-b720-6d77e01acebf"
      },
      "execution_count": 87,
      "outputs": [
        {
          "output_type": "stream",
          "name": "stdout",
          "text": [
            "1\n",
            "[ 0.38494116  0.16971654 -0.70254198  0.78961102 -1.85779675  0.41705103\n",
            "  0.82464851]\n",
            "\n",
            "2\n",
            "[[1.3244077  3.96960961]\n",
            " [4.57409102 5.79699769]\n",
            " [4.42152222 0.73731037]]\n"
          ]
        }
      ]
    },
    {
      "cell_type": "code",
      "source": [
        "# 난수 시드 설정\n",
        "np.random.seed(42)\n",
        "\n",
        "# 0과 1사이의 5개의 요소로 구성된 배열 생성\n",
        "np.random.rand(5)"
      ],
      "metadata": {
        "colab": {
          "base_uri": "https://localhost:8080/"
        },
        "id": "PtEym845yQuM",
        "outputId": "42587a31-2668-49fe-9eea-5fed32e84fc2"
      },
      "execution_count": 90,
      "outputs": [
        {
          "output_type": "execute_result",
          "data": {
            "text/plain": [
              "array([0.37454012, 0.95071431, 0.73199394, 0.59865848, 0.15601864])"
            ]
          },
          "metadata": {},
          "execution_count": 90
        }
      ]
    },
    {
      "cell_type": "code",
      "source": [
        "# np.random.shuffle()\n",
        "\n",
        "x = np.arange(10)\n",
        "x"
      ],
      "metadata": {
        "colab": {
          "base_uri": "https://localhost:8080/"
        },
        "id": "Wq4LsmxdGnRQ",
        "outputId": "b843b572-0406-4b0d-d8de-ce2074479025"
      },
      "execution_count": 91,
      "outputs": [
        {
          "output_type": "execute_result",
          "data": {
            "text/plain": [
              "array([0, 1, 2, 3, 4, 5, 6, 7, 8, 9])"
            ]
          },
          "metadata": {},
          "execution_count": 91
        }
      ]
    },
    {
      "cell_type": "code",
      "source": [
        "np.random.shuffle(x)\n",
        "x"
      ],
      "metadata": {
        "colab": {
          "base_uri": "https://localhost:8080/"
        },
        "id": "px8wzVSYIuTb",
        "outputId": "05efdb52-7415-4f3d-c4eb-86cfa707f72c"
      },
      "execution_count": 92,
      "outputs": [
        {
          "output_type": "execute_result",
          "data": {
            "text/plain": [
              "array([0, 1, 8, 5, 3, 4, 7, 9, 6, 2])"
            ]
          },
          "metadata": {},
          "execution_count": 92
        }
      ]
    },
    {
      "cell_type": "code",
      "source": [
        "np.random.choice(x, 2,True, None)"
      ],
      "metadata": {
        "colab": {
          "base_uri": "https://localhost:8080/"
        },
        "id": "B8k9WWv0I0ee",
        "outputId": "579cedd2-f03f-4522-8481-8564582aad1b"
      },
      "execution_count": 93,
      "outputs": [
        {
          "output_type": "execute_result",
          "data": {
            "text/plain": [
              "array([3, 1])"
            ]
          },
          "metadata": {},
          "execution_count": 93
        }
      ]
    },
    {
      "cell_type": "code",
      "source": [
        "# '오늘 뭐 먹지?' 라는 모바일 앱을 만드려고 해요\n",
        "menu = ['라면', '스파게티', '된장찌개', '파전']\n",
        "\n",
        "menu_arr = np.array(menu)\n",
        "recommended_menu = np.random.choice(menu_arr, 1, replace=True, p=[0.1, 0.1, 0.1, 0.7])\n",
        "recommended_menu"
      ],
      "metadata": {
        "colab": {
          "base_uri": "https://localhost:8080/"
        },
        "id": "_fcNPBUEJWbZ",
        "outputId": "7e096bb2-0123-47c0-e973-17ee54ba2fc2"
      },
      "execution_count": 102,
      "outputs": [
        {
          "output_type": "execute_result",
          "data": {
            "text/plain": [
              "array(['파전'], dtype='<U4')"
            ]
          },
          "metadata": {},
          "execution_count": 102
        }
      ]
    },
    {
      "cell_type": "code",
      "source": [
        "# raand: 0부터 1사이의 균일 분포\n",
        "np.random.rand(10)"
      ],
      "metadata": {
        "colab": {
          "base_uri": "https://localhost:8080/"
        },
        "id": "uizjX_RGKL3-",
        "outputId": "d5aee401-0368-4ffb-db5b-fc0ed067ef77"
      },
      "execution_count": 104,
      "outputs": [
        {
          "output_type": "execute_result",
          "data": {
            "text/plain": [
              "array([0.43194502, 0.29122914, 0.61185289, 0.13949386, 0.29214465,\n",
              "       0.36636184, 0.45606998, 0.78517596, 0.19967378, 0.51423444])"
            ]
          },
          "metadata": {},
          "execution_count": 104
        }
      ]
    },
    {
      "cell_type": "code",
      "source": [
        "# randn 표준 정규 분포(평균:0, 분산, 1)\n",
        "np.random.randn(10)"
      ],
      "metadata": {
        "colab": {
          "base_uri": "https://localhost:8080/"
        },
        "id": "whjIjNKJK9UV",
        "outputId": "ff72cabb-3069-4cc0-9048-d2d841d94b7a"
      },
      "execution_count": 105,
      "outputs": [
        {
          "output_type": "execute_result",
          "data": {
            "text/plain": [
              "array([-0.54438272,  0.11092259, -1.15099358,  0.37569802, -0.60063869,\n",
              "       -0.29169375, -0.60170661,  1.85227818, -0.01349722, -1.05771093])"
            ]
          },
          "metadata": {},
          "execution_count": 105
        }
      ]
    },
    {
      "cell_type": "code",
      "source": [
        "# randint: 균일 분포의 정수 난수\n",
        "\n",
        "# 로또 번호 생성기(1~45의 숫자 중에서 7개의 임의의 숫자 추출)\n",
        "\n",
        "np.random.randint(45, size=7)"
      ],
      "metadata": {
        "colab": {
          "base_uri": "https://localhost:8080/"
        },
        "id": "JcayDLzKLx-Z",
        "outputId": "74068845-4bd1-4a82-b2a2-b7b02eef4da9"
      },
      "execution_count": 106,
      "outputs": [
        {
          "output_type": "execute_result",
          "data": {
            "text/plain": [
              "array([34, 13, 16, 35, 39,  3,  1])"
            ]
          },
          "metadata": {},
          "execution_count": 106
        }
      ]
    },
    {
      "cell_type": "code",
      "source": [
        "np.random.seed(0)\n",
        "\n",
        "np.random.randint(45, size=7)"
      ],
      "metadata": {
        "colab": {
          "base_uri": "https://localhost:8080/"
        },
        "id": "ezUxGEHKMCRN",
        "outputId": "8bccc2b7-4970-454d-d7aa-58620e9498e4"
      },
      "execution_count": 114,
      "outputs": [
        {
          "output_type": "execute_result",
          "data": {
            "text/plain": [
              "array([44,  0,  3,  3, 39,  9, 19])"
            ]
          },
          "metadata": {},
          "execution_count": 114
        }
      ]
    },
    {
      "cell_type": "code",
      "source": [
        "arr1 = np.array([1, 2, 3, 4, 5, 6])\n",
        "\n",
        "print(arr1.reshape(3,2))"
      ],
      "metadata": {
        "colab": {
          "base_uri": "https://localhost:8080/"
        },
        "id": "E1dB6Z4zMIlZ",
        "outputId": "921efa6e-9fba-4786-b64c-31c2f94048d7"
      },
      "execution_count": 118,
      "outputs": [
        {
          "output_type": "stream",
          "name": "stdout",
          "text": [
            "[[1 2]\n",
            " [3 4]\n",
            " [5 6]]\n"
          ]
        }
      ]
    },
    {
      "cell_type": "code",
      "source": [
        "arr1 = np.zeros((4,3))\n",
        "print(arr1)\n",
        "arr2 = arr1.reshape(2,6)\n",
        "print(\"=\"*30)\n",
        "print(arr2)\n",
        "arr3 = arr1.reshape(2,3,2)\n",
        "print(\"=\"*30)\n",
        "print(arr3)"
      ],
      "metadata": {
        "colab": {
          "base_uri": "https://localhost:8080/"
        },
        "id": "3RRZboiFNMwe",
        "outputId": "bae1bfbf-b879-49ca-f9f8-18beadb3aacd"
      },
      "execution_count": 128,
      "outputs": [
        {
          "output_type": "stream",
          "name": "stdout",
          "text": [
            "[[0. 0. 0.]\n",
            " [0. 0. 0.]\n",
            " [0. 0. 0.]\n",
            " [0. 0. 0.]]\n",
            "==============================\n",
            "[[0. 0. 0. 0. 0. 0.]\n",
            " [0. 0. 0. 0. 0. 0.]]\n",
            "==============================\n",
            "[[[0. 0.]\n",
            "  [0. 0.]\n",
            "  [0. 0.]]\n",
            "\n",
            " [[0. 0.]\n",
            "  [0. 0.]\n",
            "  [0. 0.]]]\n"
          ]
        }
      ]
    },
    {
      "cell_type": "code",
      "source": [
        "arr1 = np.array([1, 2, 3, 4, 5, 6])\n",
        "arr2 = np.array([[1, 2, 3], [4, 5, 6]])\n",
        "\n",
        "print(arr1.reshape(3, 2)) # (3,2)로 구조 변경\n",
        "print(\"=\"*30)\n",
        "print(arr2.reshape(-1, 2))  # 열 개수를 2개로 구조 변경, -1은 알아서 들어가게끔 하는 코드, (3,2) -> (-1,2)\n",
        "print(\"=\"*30)\n",
        "print(arr1.reshape(-1, 1))  # 열 개수를 1개로 구조 변경, (6,) -> (6,1)"
      ],
      "metadata": {
        "colab": {
          "base_uri": "https://localhost:8080/"
        },
        "id": "7rfgCRFJN6id",
        "outputId": "85ddb7d9-fc33-401d-d9b2-7e41cc0b2413"
      },
      "execution_count": 130,
      "outputs": [
        {
          "output_type": "stream",
          "name": "stdout",
          "text": [
            "[[1 2]\n",
            " [3 4]\n",
            " [5 6]]\n",
            "==============================\n",
            "[[1 2]\n",
            " [3 4]\n",
            " [5 6]]\n",
            "==============================\n",
            "[[1]\n",
            " [2]\n",
            " [3]\n",
            " [4]\n",
            " [5]\n",
            " [6]]\n"
          ]
        }
      ]
    },
    {
      "cell_type": "code",
      "source": [
        "# 연습문제\n",
        "# 1. 다음 배열이 주어졌을 때, 이 배열과 구성요소가 같고 크기만 (3,8)로 다른 2차원 배열을 생성하시오.\n",
        "\n",
        "arr = np.arange(24)\n",
        "print(arr.reshape(3,8))\n",
        "# arr2 = arr.reshape(3,8)\n",
        "# print(arr2)\n",
        "\n",
        "# 2. 위 배열을(6,4) 크기의 배열로 만들되, reshape() 메서드에서 -1을 첫번째 인자로 활용하세요\n",
        "\n",
        "print(\"=\"*30)\n",
        "print(arr.reshape(-1,2))\n",
        "# arr3 = arr.reshape(-1,4)\n",
        "# print(arr3)\n",
        "\n",
        "# 3. 위 배열을 (3,4,2) 크기의 배열로 만들되, reshape() 메서드에서 -1을 두 번째 인자로 활용하세요\n",
        "# 그리고 원하는 형태로 잘 변형되었는지를 확인해 보세요 (shape속성 활용)\n",
        "\n",
        "print(\"=\"*30)\n",
        "arr2 = arr.reshape(3,4,2)\n",
        "print(arr2)\n",
        "# arr4 = arr.reshape(3,4,2)\n",
        "# print(arr4)\n",
        "print(arr2.shape)"
      ],
      "metadata": {
        "colab": {
          "base_uri": "https://localhost:8080/"
        },
        "id": "5ocbmjRrPsLr",
        "outputId": "d6af4336-ffd1-4f3f-e827-45299be908fc"
      },
      "execution_count": 147,
      "outputs": [
        {
          "output_type": "stream",
          "name": "stdout",
          "text": [
            "[[ 0  1  2  3  4  5  6  7]\n",
            " [ 8  9 10 11 12 13 14 15]\n",
            " [16 17 18 19 20 21 22 23]]\n",
            "==============================\n",
            "[[ 0  1]\n",
            " [ 2  3]\n",
            " [ 4  5]\n",
            " [ 6  7]\n",
            " [ 8  9]\n",
            " [10 11]\n",
            " [12 13]\n",
            " [14 15]\n",
            " [16 17]\n",
            " [18 19]\n",
            " [20 21]\n",
            " [22 23]]\n",
            "==============================\n",
            "[[[ 0  1]\n",
            "  [ 2  3]\n",
            "  [ 4  5]\n",
            "  [ 6  7]]\n",
            "\n",
            " [[ 8  9]\n",
            "  [10 11]\n",
            "  [12 13]\n",
            "  [14 15]]\n",
            "\n",
            " [[16 17]\n",
            "  [18 19]\n",
            "  [20 21]\n",
            "  [22 23]]]\n",
            "(3, 4, 2)\n"
          ]
        }
      ]
    },
    {
      "cell_type": "code",
      "source": [
        "a = np.array([1,2,3])\n",
        "b = np.array([4,5,6])\n",
        "\n",
        "a + b"
      ],
      "metadata": {
        "colab": {
          "base_uri": "https://localhost:8080/"
        },
        "id": "kAdT8o47RSFH",
        "outputId": "9610d8bf-40fc-4f2e-91fd-f1eb4a197d89"
      },
      "execution_count": 148,
      "outputs": [
        {
          "output_type": "execute_result",
          "data": {
            "text/plain": [
              "array([5, 7, 9])"
            ]
          },
          "metadata": {},
          "execution_count": 148
        }
      ]
    },
    {
      "cell_type": "code",
      "source": [
        "x1 = np.random.random(10 ** 6) # 100만 개의 난수로 구성된 배열 생성\n",
        "x2 = np.random.random(10 ** 6)"
      ],
      "metadata": {
        "id": "7PqnhYkOYfLx"
      },
      "execution_count": 149,
      "outputs": []
    },
    {
      "cell_type": "code",
      "source": [
        "%%timeit\n",
        "s = x1 + x2"
      ],
      "metadata": {
        "colab": {
          "base_uri": "https://localhost:8080/"
        },
        "id": "QkcPUpvXZNo0",
        "outputId": "7d6f2f36-92bc-49c7-b040-eed16b936b4a"
      },
      "execution_count": 151,
      "outputs": [
        {
          "output_type": "stream",
          "name": "stdout",
          "text": [
            "1.92 ms ± 51.7 µs per loop (mean ± std. dev. of 7 runs, 1000 loops each)\n"
          ]
        }
      ]
    },
    {
      "cell_type": "code",
      "source": [
        "%%timeit\n",
        "s = []\n",
        "\n",
        "for e1, e2 in zip(x1, x2):\n",
        "  s.append(e1 + e2)"
      ],
      "metadata": {
        "colab": {
          "base_uri": "https://localhost:8080/"
        },
        "id": "wEAr4J9SZafp",
        "outputId": "e687ee76-ba85-47aa-fc26-474fc6d34b59"
      },
      "execution_count": 152,
      "outputs": [
        {
          "output_type": "stream",
          "name": "stdout",
          "text": [
            "303 ms ± 143 ms per loop (mean ± std. dev. of 7 runs, 1 loop each)\n"
          ]
        }
      ]
    },
    {
      "cell_type": "markdown",
      "source": [
        "## %%time\n",
        "한번만 실행하면서 수행 시간을 확인하는 방법,  \n",
        "너무 간단한 함수는 한 번만 수행하기 때문에 수행 시간이 너무 짧게 나올 수 있다.\n",
        "\n",
        "\n",
        "## %%timeit\n",
        "timeit 여러번 반복해서 코드를 수행하면서 평균과 표준편차를 구해서 더욱 정밀하게 시간을 측정할 수 있다.\n",
        "\n",
        "옵션\n",
        "\n",
        "- -r : 몇 loop를 돌 것인지 설정\n",
        "\n",
        "- -n : 각 loop당 몇 번 실행할 것인지 설정"
      ],
      "metadata": {
        "id": "lr7MoN1LfhQQ"
      }
    },
    {
      "cell_type": "code",
      "source": [
        "%%time\n",
        "# 연습문제\n",
        "# 1. 1-100까지 1씩 증가하는 원소(요소)로 구성된 넘파이 배열이 있다. 각각의 요소에 3제곱한 새로운 배열을 생성하시오\n",
        "x = np.arange(1, 101)\n",
        "print(\"x ** 3 = \", x**3)\n",
        "# 2. 각각의 요소를 제곱근을 취한 새로운 배열을 생성하시오.(힌트:np.sqrt)\n",
        "print(\"x의 제곱근 = \", np.sqrt(x))\n",
        "# 3. 각각의 원소에 10을 더한 새로운 배열 생성하시오.\n",
        "print(\"x + 10 = \", x+10)"
      ],
      "metadata": {
        "colab": {
          "base_uri": "https://localhost:8080/"
        },
        "id": "7R52NQQzaHSw",
        "outputId": "9482a3b3-05a6-4d2e-ddbe-55ae2df872c6"
      },
      "execution_count": 165,
      "outputs": [
        {
          "output_type": "stream",
          "name": "stdout",
          "text": [
            "x ** 3 =  [      1       8      27      64     125     216     343     512     729\n",
            "    1000    1331    1728    2197    2744    3375    4096    4913    5832\n",
            "    6859    8000    9261   10648   12167   13824   15625   17576   19683\n",
            "   21952   24389   27000   29791   32768   35937   39304   42875   46656\n",
            "   50653   54872   59319   64000   68921   74088   79507   85184   91125\n",
            "   97336  103823  110592  117649  125000  132651  140608  148877  157464\n",
            "  166375  175616  185193  195112  205379  216000  226981  238328  250047\n",
            "  262144  274625  287496  300763  314432  328509  343000  357911  373248\n",
            "  389017  405224  421875  438976  456533  474552  493039  512000  531441\n",
            "  551368  571787  592704  614125  636056  658503  681472  704969  729000\n",
            "  753571  778688  804357  830584  857375  884736  912673  941192  970299\n",
            " 1000000]\n",
            "x의 제곱근 =  [ 1.          1.41421356  1.73205081  2.          2.23606798  2.44948974\n",
            "  2.64575131  2.82842712  3.          3.16227766  3.31662479  3.46410162\n",
            "  3.60555128  3.74165739  3.87298335  4.          4.12310563  4.24264069\n",
            "  4.35889894  4.47213595  4.58257569  4.69041576  4.79583152  4.89897949\n",
            "  5.          5.09901951  5.19615242  5.29150262  5.38516481  5.47722558\n",
            "  5.56776436  5.65685425  5.74456265  5.83095189  5.91607978  6.\n",
            "  6.08276253  6.164414    6.244998    6.32455532  6.40312424  6.4807407\n",
            "  6.55743852  6.63324958  6.70820393  6.78232998  6.8556546   6.92820323\n",
            "  7.          7.07106781  7.14142843  7.21110255  7.28010989  7.34846923\n",
            "  7.41619849  7.48331477  7.54983444  7.61577311  7.68114575  7.74596669\n",
            "  7.81024968  7.87400787  7.93725393  8.          8.06225775  8.1240384\n",
            "  8.18535277  8.24621125  8.30662386  8.36660027  8.42614977  8.48528137\n",
            "  8.54400375  8.60232527  8.66025404  8.71779789  8.77496439  8.83176087\n",
            "  8.88819442  8.94427191  9.          9.05538514  9.11043358  9.16515139\n",
            "  9.21954446  9.2736185   9.32737905  9.38083152  9.43398113  9.48683298\n",
            "  9.53939201  9.59166305  9.64365076  9.69535971  9.74679434  9.79795897\n",
            "  9.8488578   9.89949494  9.94987437 10.        ]\n",
            "x + 10 =  [ 11  12  13  14  15  16  17  18  19  20  21  22  23  24  25  26  27  28\n",
            "  29  30  31  32  33  34  35  36  37  38  39  40  41  42  43  44  45  46\n",
            "  47  48  49  50  51  52  53  54  55  56  57  58  59  60  61  62  63  64\n",
            "  65  66  67  68  69  70  71  72  73  74  75  76  77  78  79  80  81  82\n",
            "  83  84  85  86  87  88  89  90  91  92  93  94  95  96  97  98  99 100\n",
            " 101 102 103 104 105 106 107 108 109 110]\n",
            "CPU times: user 5.22 ms, sys: 0 ns, total: 5.22 ms\n",
            "Wall time: 5.14 ms\n"
          ]
        }
      ]
    },
    {
      "cell_type": "code",
      "source": [
        "\n",
        "# 연습\n",
        "# 각각의 배열의 각각의 원소에 3을 곱하고 1을 뺀 함수를 구현하여 적용하시오\n",
        "arr = np.arange(10)\n",
        "\n",
        "def plus_three_minus_one(x):\n",
        "   return x*3-1\n",
        "print(plus_three_minus_one(arr))"
      ],
      "metadata": {
        "colab": {
          "base_uri": "https://localhost:8080/"
        },
        "id": "M9xuwdyph4N2",
        "outputId": "ca2db91c-c068-434a-c8e1-acbc9630f9af"
      },
      "execution_count": 192,
      "outputs": [
        {
          "output_type": "stream",
          "name": "stdout",
          "text": [
            "[-1  2  5  8 11 14 17 20 23 26]\n"
          ]
        }
      ]
    },
    {
      "cell_type": "code",
      "source": [
        "x = np.array([1,2,3])\n",
        "y = np.array([1,3,-2])\n",
        "\n",
        "print(x >= 2)"
      ],
      "metadata": {
        "colab": {
          "base_uri": "https://localhost:8080/"
        },
        "id": "rByRYjpikXxc",
        "outputId": "e8a6204a-71c8-491b-e06c-bb83325f0bcc"
      },
      "execution_count": 182,
      "outputs": [
        {
          "output_type": "stream",
          "name": "stdout",
          "text": [
            "[False  True  True]\n"
          ]
        }
      ]
    },
    {
      "cell_type": "code",
      "source": [
        "# 연습문제\n",
        "# 다음 배열에서 짝수인 요소의 개수를 출력하는 코드를 작성하시오\n",
        "arr = np.arange(45)\n",
        "\n",
        "# 긴버전\n",
        "cond = arr%2 ==0\n",
        "# print(cond)\n",
        "print(sum(cond))\n",
        "# 짧은 버전\n",
        "print(sum(arr % 2 ==0 ))\n"
      ],
      "metadata": {
        "colab": {
          "base_uri": "https://localhost:8080/"
        },
        "id": "dQBFOLakcxqO",
        "outputId": "5715dfbc-b931-4fb7-c32b-30b545a51978"
      },
      "execution_count": 197,
      "outputs": [
        {
          "output_type": "stream",
          "name": "stdout",
          "text": [
            "23\n",
            "23\n"
          ]
        }
      ]
    },
    {
      "cell_type": "code",
      "source": [
        "a = np.array([[1,2], [3,4]]) # (2,2)의 2차원 배열, 즉 행렬\n",
        "b = np.array([-1, -2]) # (2,)의 1차월 배열, 백터\n",
        "print(a, \"\\n\")\n",
        "print(b, \"\\n\")\n",
        "print(a + b)"
      ],
      "metadata": {
        "colab": {
          "base_uri": "https://localhost:8080/"
        },
        "id": "dJkwQAnmk6vj",
        "outputId": "095f3773-5f3a-4110-8398-dbad09114ab9"
      },
      "execution_count": 200,
      "outputs": [
        {
          "output_type": "stream",
          "name": "stdout",
          "text": [
            "[[1 2]\n",
            " [3 4]] \n",
            "\n",
            "[-1 -2] \n",
            "\n",
            "[[0 0]\n",
            " [2 2]]\n"
          ]
        }
      ]
    },
    {
      "cell_type": "code",
      "source": [
        "  import numpy as np\n",
        "x = np.arange(15).reshape(5, 3) # method chaining (함수를 연결해서 사용)\n",
        "display(x)  # display 함수를 사용하여 x의 원 구조를 망가트리지 않고 출력"
      ],
      "metadata": {
        "colab": {
          "base_uri": "https://localhost:8080/",
          "height": 108
        },
        "id": "uN2AFpTPo1MH",
        "outputId": "23ccd351-7eb0-4e8f-ba4d-40989a9d7d5f"
      },
      "execution_count": 202,
      "outputs": [
        {
          "output_type": "display_data",
          "data": {
            "text/plain": [
              "array([[ 0,  1,  2],\n",
              "       [ 3,  4,  5],\n",
              "       [ 6,  7,  8],\n",
              "       [ 9, 10, 11],\n",
              "       [12, 13, 14]])"
            ]
          },
          "metadata": {}
        }
      ]
    },
    {
      "cell_type": "code",
      "source": [
        "# sum은 함수 형태 및 메서드 형태 모두 지원 # axis함수 할 차례\n",
        "\n",
        "print(np.sum(x))\n",
        "print(x.sum())"
      ],
      "metadata": {
        "colab": {
          "base_uri": "https://localhost:8080/"
        },
        "id": "IXCdxxlsqYVo",
        "outputId": "6f3d466b-7f45-4a70-a957-36a4e88ca436"
      },
      "execution_count": 205,
      "outputs": [
        {
          "output_type": "stream",
          "name": "stdout",
          "text": [
            "105\n",
            "105\n"
          ]
        }
      ]
    },
    {
      "cell_type": "code",
      "source": [],
      "metadata": {
        "id": "hICIPzI1q0jf"
      },
      "execution_count": null,
      "outputs": []
    }
  ]
}