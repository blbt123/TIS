{
  "nbformat": 4,
  "nbformat_minor": 0,
  "metadata": {
    "colab": {
      "provenance": [],
      "authorship_tag": "ABX9TyNVWhZ6nnsGAeOQ5i75xiUi",
      "include_colab_link": true
    },
    "kernelspec": {
      "name": "python3",
      "display_name": "Python 3"
    },
    "language_info": {
      "name": "python"
    }
  },
  "cells": [
    {
      "cell_type": "markdown",
      "metadata": {
        "id": "view-in-github",
        "colab_type": "text"
      },
      "source": [
        "<a href=\"https://colab.research.google.com/github/blbt123/TIS/blob/main/%EB%B3%B5%EC%8A%B5_2023_02_11.ipynb\" target=\"_parent\"><img src=\"https://colab.research.google.com/assets/colab-badge.svg\" alt=\"Open In Colab\"/></a>"
      ]
    },
    {
      "cell_type": "markdown",
      "source": [
        "## **변수와 자료형**\n",
        "- **변수**: 어떤 값을 저장하고 있는 공간\n",
        "- **할당**: 특정한 값을 변수에 저장하는 것\n",
        "- **형식**: 변수 = 변수에 저장할 값"
      ],
      "metadata": {
        "id": "Y5xhSP6pQJDK"
      }
    },
    {
      "cell_type": "markdown",
      "source": [],
      "metadata": {
        "id": "EGrPCwUQUpjM"
      }
    },
    {
      "cell_type": "code",
      "execution_count": null,
      "metadata": {
        "id": "7ACVLQgCQHYM"
      },
      "outputs": [],
      "source": [
        "a = 1\n",
        "b = 2\n",
        "c = \"안녕하세요\""
      ]
    },
    {
      "cell_type": "markdown",
      "source": [
        "- 변수를 출력  \n",
        "  print(변수1, 변수2, ...)"
      ],
      "metadata": {
        "id": "vNgtFSqgRCSN"
      }
    },
    {
      "cell_type": "code",
      "source": [
        "print(a, b, c)"
      ],
      "metadata": {
        "colab": {
          "base_uri": "https://localhost:8080/"
        },
        "id": "HHEcOQQLQ856",
        "outputId": "c0aa78d3-e484-4ec9-efa2-4909a14ebb6f"
      },
      "execution_count": null,
      "outputs": [
        {
          "output_type": "stream",
          "name": "stdout",
          "text": [
            "1 2 안녕하세요\n"
          ]
        }
      ]
    },
    {
      "cell_type": "markdown",
      "source": [
        "- **식별자(identifier)**  \n",
        "  변수 등 객체를 식별하는데 사용, 영어 알파벳 또는 언더바(_)로 시작해야 한다. \n",
        "- **자료형(data type)**  \n",
        "  저장하는 값의 종류, 자료형에 따라 변수의 특성과 사용할 수 있는 연산이 달라진다."
      ],
      "metadata": {
        "id": "tr7EBjx-R267"
      }
    },
    {
      "cell_type": "code",
      "source": [
        "# 숫자형과 문자형 조합\n",
        "\n",
        "a + c"
      ],
      "metadata": {
        "colab": {
          "base_uri": "https://localhost:8080/",
          "height": 211
        },
        "id": "qMwVvx26RU9J",
        "outputId": "e4c83d9f-8f3b-4b91-f10e-e79dc23285e2"
      },
      "execution_count": null,
      "outputs": [
        {
          "output_type": "error",
          "ename": "TypeError",
          "evalue": "ignored",
          "traceback": [
            "\u001b[0;31m---------------------------------------------------------------------------\u001b[0m",
            "\u001b[0;31mTypeError\u001b[0m                                 Traceback (most recent call last)",
            "\u001b[0;32m<ipython-input-5-2f02a6e5f035>\u001b[0m in \u001b[0;36m<module>\u001b[0;34m\u001b[0m\n\u001b[1;32m      1\u001b[0m \u001b[0;31m# 숫자형과 문자형 조합\u001b[0m\u001b[0;34m\u001b[0m\u001b[0;34m\u001b[0m\u001b[0;34m\u001b[0m\u001b[0m\n\u001b[1;32m      2\u001b[0m \u001b[0;34m\u001b[0m\u001b[0m\n\u001b[0;32m----> 3\u001b[0;31m \u001b[0ma\u001b[0m \u001b[0;34m+\u001b[0m \u001b[0mc\u001b[0m\u001b[0;34m\u001b[0m\u001b[0;34m\u001b[0m\u001b[0m\n\u001b[0m",
            "\u001b[0;31mTypeError\u001b[0m: unsupported operand type(s) for +: 'int' and 'str'"
          ]
        }
      ]
    },
    {
      "cell_type": "code",
      "source": [
        "# 숫자형 변수와 문자 입력\n",
        "\n",
        "a + \"안녕하세요\""
      ],
      "metadata": {
        "colab": {
          "base_uri": "https://localhost:8080/",
          "height": 174
        },
        "id": "D47uDhZtTCpr",
        "outputId": "f9446dbc-65bf-4014-93b9-e2b00170e3fe"
      },
      "execution_count": null,
      "outputs": [
        {
          "output_type": "error",
          "ename": "TypeError",
          "evalue": "ignored",
          "traceback": [
            "\u001b[0;31m---------------------------------------------------------------------------\u001b[0m",
            "\u001b[0;31mTypeError\u001b[0m                                 Traceback (most recent call last)",
            "\u001b[0;32m<ipython-input-4-4b8a207edcba>\u001b[0m in \u001b[0;36m<module>\u001b[0;34m\u001b[0m\n\u001b[0;32m----> 1\u001b[0;31m \u001b[0ma\u001b[0m \u001b[0;34m+\u001b[0m \u001b[0;34m\"안녕하세요\"\u001b[0m\u001b[0;34m\u001b[0m\u001b[0;34m\u001b[0m\u001b[0m\n\u001b[0m",
            "\u001b[0;31mTypeError\u001b[0m: unsupported operand type(s) for +: 'int' and 'str'"
          ]
        }
      ]
    },
    {
      "cell_type": "markdown",
      "source": [
        "위와 같이 형식이 일치하지 않으면 오류를 밷어내기도 한다.  \n",
        "int: 정수형, str: 문자형"
      ],
      "metadata": {
        "id": "A-9M1hk9TH-c"
      }
    },
    {
      "cell_type": "markdown",
      "source": [
        "## 숫자형\n",
        "\n",
        "- int: 정수형 (1, 2, 3, 4, ...)\n",
        "- float: 실수형 (1.5, 2.5, 3.5, 4.5, ...)"
      ],
      "metadata": {
        "id": "HeaXniJnV4vt"
      }
    },
    {
      "cell_type": "code",
      "source": [
        "# 변수의 정의\n",
        "a = 1\n",
        "b = 1.5\n",
        "\n",
        "# 할당된 변수의 형식 확인\n",
        "print(type(a), type(b))"
      ],
      "metadata": {
        "colab": {
          "base_uri": "https://localhost:8080/"
        },
        "id": "2zKlM_vDWqes",
        "outputId": "f1ed7d15-d814-48a1-89b0-1f823fa65247"
      },
      "execution_count": null,
      "outputs": [
        {
          "output_type": "stream",
          "name": "stdout",
          "text": [
            "<class 'int'> <class 'float'>\n"
          ]
        }
      ]
    },
    {
      "cell_type": "markdown",
      "source": [
        "## 형변환\n",
        "변수의 형식을 바꾸는 작업\n",
        "- 정수 -> 실수: a = float(a) \n",
        "- 실수 -> 정수: b = int(b)"
      ],
      "metadata": {
        "id": "Lc2axzsuXbz_"
      }
    },
    {
      "cell_type": "code",
      "source": [
        "# 정수 -> 실수\n",
        "\n",
        "a = float(a)\n",
        "\n",
        "# 실수 -> 정수\n",
        "\n",
        "b = int(b)\n",
        "\n",
        "print(a)\n",
        "print(b)"
      ],
      "metadata": {
        "colab": {
          "base_uri": "https://localhost:8080/"
        },
        "id": "ZDBaKmY4XR-r",
        "outputId": "eac024ef-9437-4d11-ccf8-1fb2f995e7df"
      },
      "execution_count": null,
      "outputs": [
        {
          "output_type": "stream",
          "name": "stdout",
          "text": [
            "1.0\n",
            "1\n"
          ]
        }
      ]
    },
    {
      "cell_type": "markdown",
      "source": [
        "## **사칙연산**\n",
        "- 더하기: +  \n",
        "- 빼  기  : -  \n",
        "- 곱하기: *\n",
        "- 나누기: /\n"
      ],
      "metadata": {
        "id": "4ozA_U6DotBx"
      }
    },
    {
      "cell_type": "code",
      "source": [
        "# 사칙연산 예시\n",
        "\n",
        "a = 5\n",
        "b = 10\n",
        "c = 25\n",
        "d = 30\n",
        "\n",
        "# 더하기\n",
        "\n",
        "print(a + b)\n",
        "\n",
        "# 빼  기\n",
        "\n",
        "print(d - c)\n",
        "\n",
        "# 곱하기\n",
        "\n",
        "print(c * d)\n",
        "\n",
        "# 나누기\n",
        "\n",
        "print(d + b)\n"
      ],
      "metadata": {
        "colab": {
          "base_uri": "https://localhost:8080/"
        },
        "id": "N1WUynAYYFjW",
        "outputId": "fdbae9c0-d5a4-4c4a-9c65-01875ddf180f"
      },
      "execution_count": null,
      "outputs": [
        {
          "output_type": "stream",
          "name": "stdout",
          "text": [
            "15\n",
            "5\n",
            "750\n",
            "40\n"
          ]
        }
      ]
    },
    {
      "cell_type": "markdown",
      "source": [
        "## 그 외의 연산\n",
        "\n",
        "- 제곱  \n",
        "  ```**```\n",
        "- 나눗셈 후 **나머지**를 반환  \n",
        "  ```%```\n",
        "- 나눗셈 후 **몫**을 반환  \n",
        "  ```//```"
      ],
      "metadata": {
        "id": "0g6C_pWu2LC4"
      }
    },
    {
      "cell_type": "code",
      "source": [
        "# 제곱\n",
        "\n",
        "print(13**2)\n",
        "\n",
        "# 나눗셈 후 나머지를 반환\n",
        "\n",
        "print(10 % 4)\n",
        "\n",
        "# 나눗셈 후 몫을 반환\n",
        "\n",
        "print(39 % 6)\n"
      ],
      "metadata": {
        "colab": {
          "base_uri": "https://localhost:8080/"
        },
        "id": "enjXX_WWp9oV",
        "outputId": "2ea0f7b9-91b1-4536-f44a-eb1b8c32529d"
      },
      "execution_count": null,
      "outputs": [
        {
          "output_type": "stream",
          "name": "stdout",
          "text": [
            "169\n",
            "2\n",
            "3\n"
          ]
        }
      ]
    },
    {
      "cell_type": "markdown",
      "source": [
        "## 문자열 만들기\n",
        "문자열을 만들기 위해서는 따움표로 둘러싸야 하지만  \n",
        "문장안에 큰따움표나 작은 따움표가 포함될 수 있기 때문에  \n",
        "아래와 같은 4가지 방법으로 문자열을 만들 수 있다\n",
        "- 큰 따움표(\" \") 양쪽으로 둘러싸기\n",
        "- 작은 따움표(' ') 양쪽으로 둘러싸기\n",
        "- 큰 따움표 3개를 (\"\"\" \"\"\")양쪽으로 둘러싸기\n",
        "- 작은따움표 3개를 (''' ''')양쪽으로 둘러싸기\n",
        "\n",
        "### **백슬래시(\\\\)를 이용하여 작은 따움표와 큰따움표를 문자열에 포함시키기**\n",
        "작은따움표나 큰 따움표 앞에 백슬래시를 삽입하여 사용"
      ],
      "metadata": {
        "id": "RGhv8KtY4nnh"
      }
    },
    {
      "cell_type": "code",
      "source": [
        "# 문자열 만들기\n",
        "\n",
        "# 큰 따움표(\" \") 양쪽으로 둘러싸기\n",
        "\n",
        "print(\"hellow python\", \"123\")\n",
        "\n",
        "# 작은 따움표(' ') 양쪽으로 둘러싸기\n",
        "\n",
        "print('what do you want?', '456')\n",
        "\n",
        "# 큰 따움표 3개를 (\"\"\" \"\"\")양쪽으로 둘러싸기\n",
        "\n",
        "print(\"\"\"what is your name\"\"\", \"\"\"123\"\"\")\n",
        "\n",
        "# 작은따움표 3개를 (''' ''')양쪽으로 둘러싸기\n",
        "\n",
        "print('''good luck''', '''456''')\n",
        "\n",
        "# 백슬래시(\\) 이용\n",
        "\n",
        "print('this is jay\\'s car')\n",
        "\n",
        "print(\"he said \\\"good luck\\\"\")\n"
      ],
      "metadata": {
        "colab": {
          "base_uri": "https://localhost:8080/"
        },
        "id": "jdspofXa3f3k",
        "outputId": "1f7e862b-47bb-4e36-c9f2-5bb4c3289995"
      },
      "execution_count": null,
      "outputs": [
        {
          "output_type": "stream",
          "name": "stdout",
          "text": [
            "hellow python 123\n",
            "what do you want? 456\n",
            "what is your name 123\n",
            "good luck 456\n",
            "this is jay's car\n",
            "he said \"good luck\"\n"
          ]
        }
      ]
    },
    {
      "cell_type": "markdown",
      "source": [
        "## 여러 줄인 문자열을 변수에 대입하고 싶을 때\n",
        "- 연속된 작은따움표 3개 또는 큰따움표  3개 사용\n",
        "- 이스케이프 코드 삽입(\\n)\n",
        "- 이스케이프 코드\n",
        "\n",
        "| 코드 |                          설명                          |\n",
        "|------|--------------------------------------------------------|\n",
        "|  \\n  | 문자열 안에서 줄을 바꿀 때 사용                        |\n",
        "|  \\t  | 문자열 사이에 탭 간격을 줄 때 사용                     |\n",
        "| \\\\\\\\ | 문자(\\\\)를 그대로 표현할 때 사용                       |\n",
        "|  \\\\' | 작은따움표(')를 그대로 표현할 때 사용                  |\n",
        "|  \\\\\" | 큰따움표(\")를 그대로 표현할 때 사용                    |\n",
        "|  \\r  | 캐리지 리턴(줄 바꿈 문자, 혅재 커서를 가장 앞으로 이동 |\n",
        "|  \\f  | 폼 피드(줄 바꿈 문자, 현재 커서를 다음 줄로 이동)      |\n",
        "|  \\a  | 벨 소리(출력할 때 PC 스피커에서 '삑'소리가 난다)       |\n",
        "|  \\b  | 백 스페이스                                            |\n",
        "| \\000 | 널 문자                                                |\n",
        "\n",
        "이 중 사용빈도가 높은 것은 \\n, \\t, \\\\\\\\, \\\\', \\\\\"\n",
        "\n",
        "\n",
        "이스케이프 안에 있는 문자열을 이스케이프 문자가 아닌 그대로 출력하고 싶으면 문자열 앞에 r을 붙입니다.\n",
        "\n",
        "\n",
        "\\n코드를 사용하면 읽기 불편하고 줄이 길어지기 때문에 연속된 작은따움표 3개 또는 큰따움표 3개를 사용하기도 한다."
      ],
      "metadata": {
        "id": "wJhTesVS77Yi"
      }
    },
    {
      "cell_type": "code",
      "source": [
        "# 예시\n",
        "\n",
        "# \\n 줄바꿈\n",
        "\n",
        "a = \"Life is short. \\nYou need Python\"\n",
        "\n",
        "# \\t 문자열 사이의 탭 간격\n",
        "\n",
        "b = \"인공지능\\t머신러닝\\t딥러닝\"\n",
        "\n",
        "# \\\\ 역슬래시 문자 그대로 표현\n",
        "\n",
        "c = \"역슬래시(\\\\)를 이용하여 특수한 현태의 문자를 정의할 수 있습니다.\"\n",
        "\n",
        "# r을 이용하여 이스케이프 문자 무시하기\n",
        "\n",
        "d = r\"이스케이프 문자 \\n \\t 무시하기\"\n",
        "\n",
        "# 연속된 작은따움표 3개 또는 큰 따움표 3개 사용\n",
        "\n",
        "e = '''\n",
        "Life is too short\n",
        "\n",
        "You need python\n",
        "'''\n",
        "\n",
        "f = \"\"\"\n",
        "이건은 제가 개발한 인공지는 프로그램입니다.\n",
        "ㅇㅇㅇㅇ\n",
        "\n",
        "ㅇㅇㅇㅇㅇ\n",
        "\"\"\"\n",
        "\n",
        "\n",
        "print(a)\n",
        "print(b)\n",
        "print(c)\n",
        "print(d)\n",
        "print(e)\n",
        "print(f)\n"
      ],
      "metadata": {
        "colab": {
          "base_uri": "https://localhost:8080/"
        },
        "id": "wXapwqpD62mF",
        "outputId": "e5f5255e-4bcb-4e52-8f39-743fe032705b"
      },
      "execution_count": null,
      "outputs": [
        {
          "output_type": "stream",
          "name": "stdout",
          "text": [
            "Life is short. \n",
            "You need Python\n",
            "인공지능\t머신러닝\t딥러닝\n",
            "역슬래시(\\)를 이용하여 특수한 현태의 문자를 정의할 수 있습니다.\n",
            "이스케이프 문자 \\n \\t 무시하기\n",
            "\n",
            "Life is too short\n",
            "\n",
            "You need python\n",
            "\n",
            "\n",
            "이건은 제가 개발한 인공지는 프로그램입니다.\n",
            "ㅇㅇㅇㅇ\n",
            "\n",
            "ㅇㅇㅇㅇㅇ\n",
            "\n"
          ]
        }
      ]
    },
    {
      "cell_type": "code",
      "source": [
        "# 문자열 더하기\n",
        "head = \"python\"\n",
        "tail = \"is fun!\"\n",
        "a = \"파이썬을 이용한 \"\n",
        "b = \"프로그래밍\"\n",
        "\n",
        "print(a + b)\n",
        "\n",
        "print(head + tail)"
      ],
      "metadata": {
        "colab": {
          "base_uri": "https://localhost:8080/"
        },
        "id": "BHMxw4rQEeYg",
        "outputId": "e9c5d983-ffbe-49f7-a345-527657de1345"
      },
      "execution_count": null,
      "outputs": [
        {
          "output_type": "stream",
          "name": "stdout",
          "text": [
            "파이썬을 이용한 프로그래밍\n",
            "pythonis fun!\n"
          ]
        }
      ]
    },
    {
      "cell_type": "code",
      "source": [
        "# 문자열 곱하기\n",
        "\n",
        "a = \"python \"\n",
        "b = \"파이썬 \"\n",
        "c = \"programming \"\n",
        "\n",
        "print(a * 5)\n",
        "\n",
        "print(\"-\"*35)\n",
        "\n",
        "print(b*5)\n",
        "\n",
        "print(\"-\"*35)\n",
        "\n",
        "print(c*3)\n"
      ],
      "metadata": {
        "colab": {
          "base_uri": "https://localhost:8080/"
        },
        "id": "F2ATZ6aCHyv3",
        "outputId": "3af20e5d-f2eb-4c2b-b3de-b56fbb3ee4cd"
      },
      "execution_count": null,
      "outputs": [
        {
          "output_type": "stream",
          "name": "stdout",
          "text": [
            "python python python python python \n",
            "-----------------------------------\n",
            "파이썬 파이썬 파이썬 파이썬 파이썬 \n",
            "-----------------------------------\n",
            "programming programming programming \n"
          ]
        }
      ]
    },
    {
      "cell_type": "code",
      "source": [
        "# 문자열 길이 구하기\n",
        "\n",
        "a = \"sdfasdfweregtglejhqejkfajnsdfwhrewrasdfsfdweaf\"\n",
        "\n",
        "len(a)"
      ],
      "metadata": {
        "colab": {
          "base_uri": "https://localhost:8080/"
        },
        "id": "Hs8iZADBIUcp",
        "outputId": "51821349-dead-4494-ed43-3a632f364431"
      },
      "execution_count": null,
      "outputs": [
        {
          "output_type": "execute_result",
          "data": {
            "text/plain": [
              "46"
            ]
          },
          "metadata": {},
          "execution_count": 12
        }
      ]
    },
    {
      "cell_type": "code",
      "source": [
        "# 문자열 인덱싱: 0부터 시작, 거꾸로 셀 때는 -1, -2, ...\n",
        "print(a[0])\n",
        "print(a[-3])\n",
        "print(a[10])"
      ],
      "metadata": {
        "colab": {
          "base_uri": "https://localhost:8080/"
        },
        "id": "R4lvMrtTJqkc",
        "outputId": "350e2d06-e773-41c2-d740-6e841e1f5f65"
      },
      "execution_count": null,
      "outputs": [
        {
          "output_type": "stream",
          "name": "stdout",
          "text": [
            "s\n",
            "e\n",
            "e\n"
          ]
        }
      ]
    },
    {
      "cell_type": "code",
      "source": [
        "# 슬라이싱\n",
        "a = \"hellow python\"\n",
        "b = \"asflkjqlfiasdfweffag\"\n",
        "c = \"20220815cloudy25C\"\n",
        "# 슬라이싱: 문자열[시작 인덱스 : 종료 인덱스 : 증가폭]\n",
        "# 시작 인덱스 디폴트 = 0\n",
        "# 종료 인덱스 디폴트 = 문자열 길이 끝 값, 종료 인덱스 입력하면 가장 끝 값은 제외\n",
        "# 증가폭 디폴트 = 1\n",
        "\n",
        "# 전부 포함\n",
        "print(a[1:6:1])\n",
        "\n",
        "# 시작 불포함\n",
        "print(a[:6:1])\n",
        "\n",
        "# 시작, 종료 불포함\n",
        "print(a[::1])\n",
        "\n",
        "# 종료 불포함\n",
        "print(a[1::1])\n",
        "\n",
        "# 종료, 증가폭 불포함\n",
        "print(a[1::])\n",
        "\n",
        "# 시작, 증가폭 불포함\n",
        "print(a[:6:])\n",
        "\n",
        "# 전부 불포함\n",
        "print(a[::])\n",
        "\n",
        "# 글자 조합\n",
        "print(b[2:4] + b[-2:])\n",
        "\n",
        "# 문자 나누기\n",
        "year = c[:4]\n",
        "month = c[4:6]\n",
        "day = c[6:8]\n",
        "weather = c[8:14]\n",
        "temp = c[-3:]\n",
        "print(\"{}.{}.{} 날씨는 {}이고, 기온은 {}입니다\".format(year, month, day, weather, temp))\n",
        "\n",
        "# 문자열 수정\n",
        "w = \"pithon\"\n",
        "re = w[:1] + \"y\" + w[2:]\n",
        "print(re)"
      ],
      "metadata": {
        "colab": {
          "base_uri": "https://localhost:8080/"
        },
        "id": "bv9-gItyKAnz",
        "outputId": "afc26771-76a6-46c9-e151-3f2559a87aeb"
      },
      "execution_count": 52,
      "outputs": [
        {
          "output_type": "stream",
          "name": "stdout",
          "text": [
            "ellow\n",
            "hellow\n",
            "hellow python\n",
            "ellow python\n",
            "ellow python\n",
            "hellow\n",
            "hellow python\n",
            "flag\n",
            "2022.08.15 날씨는 cloudy이고, 기온은 25C입니다\n",
            "python\n"
          ]
        }
      ]
    },
    {
      "cell_type": "code",
      "source": [
        "# find, index\n",
        "a = 'Hello python'\n",
        "\n",
        "# find: find('찾을 문자', 찾는 시작점 위치(0부터 시작)), find는 찾고자 하는 값이 없으면 -1로 나옴\n",
        "print(a.find('l',4))\n",
        "print(a.find('l',3))\n",
        "print(a.find('l',2))\n",
        "\n",
        "\n",
        "# index: index('찾을 문자', 찾는 시작점 위치(0부터 시작)), 찾고자 하는 값이 없으면 오류\n",
        "print(a.index('l',3))\n",
        "print(a.index('l',1))"
      ],
      "metadata": {
        "id": "uMjJGRwL4-ob",
        "colab": {
          "base_uri": "https://localhost:8080/"
        },
        "outputId": "a62811b7-c86b-474b-e543-7ceb83708d47"
      },
      "execution_count": 17,
      "outputs": [
        {
          "output_type": "stream",
          "name": "stdout",
          "text": [
            "-1\n",
            "3\n",
            "2\n",
            "3\n",
            "2\n"
          ]
        }
      ]
    },
    {
      "cell_type": "code",
      "source": [
        "# replace(\"대상\", \"변경내용\")\n",
        "\n",
        "a = \"너가 기침소리를 내었는가?\"\n",
        "\n",
        "print(a.replace(\"너가\", \"누가\"))"
      ],
      "metadata": {
        "colab": {
          "base_uri": "https://localhost:8080/"
        },
        "id": "m3l-euK3l6Xo",
        "outputId": "b78b84fd-e09b-4554-f3c2-197ea4dde7bb"
      },
      "execution_count": 19,
      "outputs": [
        {
          "output_type": "stream",
          "name": "stdout",
          "text": [
            "누가 기침소리를 내었는가?\n"
          ]
        }
      ]
    },
    {
      "cell_type": "code",
      "source": [
        "a = \"송실장 개객기\"\n",
        "\n",
        "# 친절한 버전\n",
        "b = a.replace(\"송\",\"thd\")\n",
        "c = b.replace(\"객\",\"tp\")\n",
        "\n",
        "print(c)\n",
        "\n",
        "# 불친절\n",
        "\n",
        "print(a.replace(\"송\",\"thd\").replace(\"객\",\"tp\"))\n",
        "print(a.replace(\"송\",\"thd\").replace(\"개객기\",\"TlqkfrotpRl\"))"
      ],
      "metadata": {
        "colab": {
          "base_uri": "https://localhost:8080/"
        },
        "id": "onXwhSiFn67z",
        "outputId": "118ab148-b385-402d-f306-9f0be7891042"
      },
      "execution_count": 24,
      "outputs": [
        {
          "output_type": "stream",
          "name": "stdout",
          "text": [
            "thd실장 개tp기\n",
            "thd실장 개tp기\n",
            "thd실장 TlqkfrotpRl\n"
          ]
        }
      ]
    },
    {
      "cell_type": "code",
      "source": [
        "# split: 문자열에 포함된 문자를 기준으로 나눌 수 있다.\n",
        "\n",
        "a = \"어? 어!? 어!?! 어!?!? 어!?!?!! 어!?!?!!!\"\n",
        "\n",
        "a.split(\" \")\n"
      ],
      "metadata": {
        "colab": {
          "base_uri": "https://localhost:8080/"
        },
        "id": "Cd84TPmJozfu",
        "outputId": "24194d4d-f7d0-4ed8-ccd5-0ca24c30d6eb"
      },
      "execution_count": 25,
      "outputs": [
        {
          "output_type": "execute_result",
          "data": {
            "text/plain": [
              "['어?', '어!?', '어!?!', '어!?!?', '어!?!?!!', '어!?!?!!!']"
            ]
          },
          "metadata": {},
          "execution_count": 25
        }
      ]
    },
    {
      "cell_type": "code",
      "source": [
        "# format: 문자열의 빈칸을 채우는데 사용\n",
        "\n",
        "A = \"안녕\"\n",
        "B = \"뭘봐\"\n",
        "C = \"어어?? 쓰읍!\"\n",
        "D = \"?!?!?\"\n",
        "\n",
        "str1 = \"영희가 철수를 보며 이렇게 말했습니다.{}!\".format(D)\n",
        "print(str1)\n"
      ],
      "metadata": {
        "colab": {
          "base_uri": "https://localhost:8080/"
        },
        "id": "7BK4eRaFrIzW",
        "outputId": "fdf670b1-3ee1-48de-f20b-9da96de23fa1"
      },
      "execution_count": 30,
      "outputs": [
        {
          "output_type": "stream",
          "name": "stdout",
          "text": [
            "영희가 철수를 보며 이렇게 말했습니다.?!?!?!\n"
          ]
        }
      ]
    },
    {
      "cell_type": "code",
      "source": [
        "# 숫자 바로 대입 (포맷코드)\n",
        "a = \"I have %d dollers\" % 4\n",
        "print(a)\n",
        "\n",
        "# 글자 바로 대입 (포맷코드)\n",
        "b = \"%s딸라\" % \"사\"\n",
        "print(b)\n",
        "\n",
        "# 변수로 대입\n",
        "me = \"나는\"\n",
        "c = \"%r 누구인가?\" % me\n",
        "print(c)\n",
        "\n",
        "#2개 이상 값 넣기\n",
        "year = 2023\n",
        "month = 2\n",
        "day = 13\n",
        "d = \"오늘은 %d.%d.%d 입니다.\" % (year, month, day)\n",
        "print(d) "
      ],
      "metadata": {
        "colab": {
          "base_uri": "https://localhost:8080/"
        },
        "id": "dpVzO3P9yL4K",
        "outputId": "a73c4fe4-d6f3-4c2c-b8cf-fbeae1c5700a"
      },
      "execution_count": 24,
      "outputs": [
        {
          "output_type": "stream",
          "name": "stdout",
          "text": [
            "I have 4 dollers\n",
            "사딸라\n",
            "'나는' 누구인가?\n",
            "오늘은 2023.2.13 입니다.\n"
          ]
        }
      ]
    },
    {
      "cell_type": "markdown",
      "source": [
        "## 문자열 포맷 코드\n",
        "\n",
        "|**코드**|           **설명**          |\n",
        "|--------|-----------------------------|\n",
        "|   %s   | 문자열                      |\n",
        "|   %c   | 문자 1개                    |\n",
        "|   %d   | 정수                        |\n",
        "|   %f   | 부동소수                    |\n",
        "|   %o   | 8진수                       |\n",
        "|   %x   | 16진수                      |\n",
        "|   %%   | Literal % (문자```%```자체) |"
      ],
      "metadata": {
        "id": "2cJR9SGb1P6Q"
      }
    },
    {
      "cell_type": "code",
      "source": [],
      "metadata": {
        "id": "fDfz77rcy1T7"
      },
      "execution_count": null,
      "outputs": []
    }
  ]
}