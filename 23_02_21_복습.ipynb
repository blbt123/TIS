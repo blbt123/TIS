{
  "nbformat": 4,
  "nbformat_minor": 0,
  "metadata": {
    "colab": {
      "provenance": [],
      "authorship_tag": "ABX9TyPmDInXYxvB6tbzDGHTVlPM",
      "include_colab_link": true
    },
    "kernelspec": {
      "name": "python3",
      "display_name": "Python 3"
    },
    "language_info": {
      "name": "python"
    }
  },
  "cells": [
    {
      "cell_type": "markdown",
      "metadata": {
        "id": "view-in-github",
        "colab_type": "text"
      },
      "source": [
        "<a href=\"https://colab.research.google.com/github/blbt123/TIS/blob/main/23_02_21_%EB%B3%B5%EC%8A%B5.ipynb\" target=\"_parent\"><img src=\"https://colab.research.google.com/assets/colab-badge.svg\" alt=\"Open In Colab\"/></a>"
      ]
    },
    {
      "cell_type": "code",
      "execution_count": null,
      "metadata": {
        "id": "Wk3Qbi7xI1OJ"
      },
      "outputs": [],
      "source": [
        "class Ourclass:\n",
        "  pass\n"
      ]
    },
    {
      "cell_type": "code",
      "source": [
        "A = Ourclass()\n",
        "B = Ourclass()"
      ],
      "metadata": {
        "id": "ZpfnxoneMM_P"
      },
      "execution_count": null,
      "outputs": []
    },
    {
      "cell_type": "code",
      "source": [
        "print(type(A))\n",
        "print(type(B))"
      ],
      "metadata": {
        "colab": {
          "base_uri": "https://localhost:8080/"
        },
        "id": "DzUqJmr2MRM2",
        "outputId": "d76467ea-9096-4174-d123-46aa2e9e4059"
      },
      "execution_count": null,
      "outputs": [
        {
          "output_type": "stream",
          "name": "stdout",
          "text": [
            "<class '__main__.Ourclass'>\n",
            "<class '__main__.Ourclass'>\n"
          ]
        }
      ]
    },
    {
      "cell_type": "code",
      "source": [
        "x = 1\n",
        "print(type(x))"
      ],
      "metadata": {
        "colab": {
          "base_uri": "https://localhost:8080/"
        },
        "id": "5wA62uSHMXvV",
        "outputId": "6a343b03-5943-4f11-b10c-4eb7b81339c6"
      },
      "execution_count": null,
      "outputs": [
        {
          "output_type": "stream",
          "name": "stdout",
          "text": [
            "<class 'int'>\n"
          ]
        }
      ]
    },
    {
      "cell_type": "code",
      "source": [
        "class Stock:\n",
        "  def __init__(self, name, market = \"코스피\"):\n",
        "    self.name = name\n",
        "    self.market = market\n",
        "    \n",
        "\n",
        "samsung = Stock(\"삼성전자\", \"코스피\")\n",
        "print(samsung.name, samsung.market)"
      ],
      "metadata": {
        "colab": {
          "base_uri": "https://localhost:8080/"
        },
        "id": "m6oJ5h3TMdVW",
        "outputId": "3bef736e-f091-42ae-9dd6-86fa58878805"
      },
      "execution_count": null,
      "outputs": [
        {
          "output_type": "stream",
          "name": "stdout",
          "text": [
            "삼성전자 코스피\n"
          ]
        }
      ]
    },
    {
      "cell_type": "code",
      "source": [
        "samsung.name = \"삼성전자 주식회사\"\n",
        "print(samsung.name)"
      ],
      "metadata": {
        "colab": {
          "base_uri": "https://localhost:8080/"
        },
        "id": "1XfGxlZENIRI",
        "outputId": "2fbaf68c-9127-4270-c7cc-bdcc605dc9f1"
      },
      "execution_count": null,
      "outputs": [
        {
          "output_type": "stream",
          "name": "stdout",
          "text": [
            "삼성전자 주식회사\n"
          ]
        }
      ]
    },
    {
      "cell_type": "code",
      "source": [
        "class Rectangle(object):\n",
        "\n",
        "  def __init__(self, h, v):\n",
        "    self.h = h\n",
        "    self.v = v\n",
        "  def area(self):\n",
        "    return self.h * self.v"
      ],
      "metadata": {
        "id": "h5Y8H2VcNbv2"
      },
      "execution_count": null,
      "outputs": []
    },
    {
      "cell_type": "code",
      "source": [
        "a = Rectangle(2,1)\n",
        "print(a.area())"
      ],
      "metadata": {
        "colab": {
          "base_uri": "https://localhost:8080/"
        },
        "id": "yqhOCGrWOCc3",
        "outputId": "1bd4aea6-4486-44ac-8dfe-2176a2be2051"
      },
      "execution_count": null,
      "outputs": [
        {
          "output_type": "stream",
          "name": "stdout",
          "text": [
            "2\n"
          ]
        }
      ]
    },
    {
      "cell_type": "code",
      "source": [
        "# 연습문제\n",
        "\n",
        "# 삼각형의 넓이를 계산하기 위한 클래스를 만든다. 이 클래스는 다음과 같은 속성을 가진다.\n",
        "# 밑변의 길이 b와 높이 h\n",
        "# 삼각형의 넓이를 계산하는 메서드 area\n",
        "\n",
        "class Triangle(object):\n",
        "  def __init__(self, h, v):\n",
        "    self.h = h\n",
        "    self.v = v\n",
        "  def area(self):\n",
        "    return self.h * self.v * 1/2"
      ],
      "metadata": {
        "id": "UA8j3RhlOJK1"
      },
      "execution_count": null,
      "outputs": []
    },
    {
      "cell_type": "code",
      "source": [
        "a = Triangle(3,2)\n",
        "print(a.area())"
      ],
      "metadata": {
        "colab": {
          "base_uri": "https://localhost:8080/"
        },
        "id": "jJ9KUm_TOopk",
        "outputId": "6dd5d5bc-cb6b-4cb6-d005-f5a47d5a966a"
      },
      "execution_count": null,
      "outputs": [
        {
          "output_type": "stream",
          "name": "stdout",
          "text": [
            "3.0\n"
          ]
        }
      ]
    },
    {
      "cell_type": "code",
      "source": [
        "class Calculator:\n",
        "  def __init__(self):\n",
        "    self.result = 0\n",
        "  \n",
        "  def add(self, num):\n",
        "    self.result += num\n",
        "    return self.result\n",
        "\n",
        "  def sub(self, num):\n",
        "    self.result -= num\n",
        "    return self.result\n",
        "\n",
        "cal1 = Calculator()\n",
        "cal2 = Calculator()\n",
        "\n",
        "print(cal1.add(3))\n",
        "print(cal1.add(4))\n",
        "print(cal2.add(3))\n",
        "print(cal2.add(7))"
      ],
      "metadata": {
        "colab": {
          "base_uri": "https://localhost:8080/"
        },
        "id": "ohlESopWOwhm",
        "outputId": "63053797-d4e7-4bab-a248-5e24278fa720"
      },
      "execution_count": null,
      "outputs": [
        {
          "output_type": "stream",
          "name": "stdout",
          "text": [
            "3\n",
            "7\n",
            "3\n",
            "10\n"
          ]
        }
      ]
    },
    {
      "cell_type": "code",
      "source": [
        "class Cookie:\n",
        "  pass"
      ],
      "metadata": {
        "id": "GesbJDdwQMke"
      },
      "execution_count": null,
      "outputs": []
    },
    {
      "cell_type": "code",
      "source": [
        "a = Cookie()\n",
        "b = Cookie()"
      ],
      "metadata": {
        "id": "5pMuZX1GQ_k2"
      },
      "execution_count": null,
      "outputs": []
    },
    {
      "cell_type": "code",
      "source": [
        "class FourCal:\n",
        "  pass"
      ],
      "metadata": {
        "id": "Bhi9LrU5RDTF"
      },
      "execution_count": null,
      "outputs": []
    },
    {
      "cell_type": "code",
      "source": [
        "a = FourCal()\n",
        "type(a)"
      ],
      "metadata": {
        "colab": {
          "base_uri": "https://localhost:8080/"
        },
        "id": "DUehSPC6RHeV",
        "outputId": "93a162b9-c515-4143-debd-f566731ca2ad"
      },
      "execution_count": null,
      "outputs": [
        {
          "output_type": "execute_result",
          "data": {
            "text/plain": [
              "__main__.FourCal"
            ]
          },
          "metadata": {},
          "execution_count": 9
        }
      ]
    },
    {
      "cell_type": "code",
      "source": [
        "class FourCal:\n",
        "  def setdata(self, first, second):\n",
        "    self.first = first\n",
        "    self.second = second"
      ],
      "metadata": {
        "id": "7gF8OReKRQb1"
      },
      "execution_count": null,
      "outputs": []
    },
    {
      "cell_type": "code",
      "source": [
        "a = FourCal()\n",
        "a.setdata(4,2)"
      ],
      "metadata": {
        "id": "6K52PQ74SSZF"
      },
      "execution_count": null,
      "outputs": []
    },
    {
      "cell_type": "code",
      "source": [
        "print(a.first)\n",
        "print(a.second)"
      ],
      "metadata": {
        "colab": {
          "base_uri": "https://localhost:8080/"
        },
        "id": "kRA8FihSSuNV",
        "outputId": "80b82e4a-5236-47f4-c306-615bc7a4e07e"
      },
      "execution_count": null,
      "outputs": [
        {
          "output_type": "stream",
          "name": "stdout",
          "text": [
            "4\n",
            "2\n"
          ]
        }
      ]
    },
    {
      "cell_type": "code",
      "source": [
        "class FourCal:\n",
        "  def setdata(self, first, second):\n",
        "    self.first = first\n",
        "    self.second = second\n",
        "\n",
        "  def add(self):\n",
        "    result = self.first + self.second\n",
        "    return result\n",
        "\n",
        "  def mul(self):\n",
        "    result = self.first * self.second\n",
        "    return result\n",
        "\n",
        "  def sub(self):\n",
        "    result = self.first - self.second\n",
        "    return result\n",
        "\n",
        "  def div(self):\n",
        "    result = self.first / self.second\n",
        "    return result\n",
        "\n"
      ],
      "metadata": {
        "id": "hMchr3qbTIo9"
      },
      "execution_count": null,
      "outputs": []
    },
    {
      "cell_type": "code",
      "source": [
        "a = FourCal()\n",
        "a.setdata(4,2)"
      ],
      "metadata": {
        "id": "AHudKxfdTAu0"
      },
      "execution_count": null,
      "outputs": []
    },
    {
      "cell_type": "code",
      "source": [
        "print(a.add())"
      ],
      "metadata": {
        "colab": {
          "base_uri": "https://localhost:8080/"
        },
        "id": "HcMCSWbgTafV",
        "outputId": "6c20c07e-4be8-446e-88ad-d9937a6229e1"
      },
      "execution_count": null,
      "outputs": [
        {
          "output_type": "stream",
          "name": "stdout",
          "text": [
            "6\n"
          ]
        }
      ]
    },
    {
      "cell_type": "code",
      "source": [
        "a = FourCal()\n",
        "b = FourCal()\n",
        "a.setdata(4,2)\n",
        "b.setdata(3,8)"
      ],
      "metadata": {
        "id": "T-a3mzaWTd3U"
      },
      "execution_count": null,
      "outputs": []
    },
    {
      "cell_type": "code",
      "source": [
        "y = \"wfefrew\"\n",
        "result = len(y)\n",
        "result"
      ],
      "metadata": {
        "id": "SAHjEntNVciF",
        "colab": {
          "base_uri": "https://localhost:8080/"
        },
        "outputId": "26a85eb6-33c4-49c4-cecb-bab4401b0afc"
      },
      "execution_count": null,
      "outputs": [
        {
          "output_type": "execute_result",
          "data": {
            "text/plain": [
              "7"
            ]
          },
          "metadata": {},
          "execution_count": 3
        }
      ]
    },
    {
      "cell_type": "code",
      "source": [
        "# 퀴즈1: 다음 문자열을 띄어쓰기를 기준으로(음절 단위로) 분할하시오\n",
        "\n",
        "str1 = '파이썬은 awesome한 언어이다.'\n",
        "\n",
        "# 퀴즈2: 다음 문자열에서 단어만 추출하시오(공백과 콤마를 제외)\n",
        "str2 = \"인공지능, 머신러닝, 딥러닝\""
      ],
      "metadata": {
        "id": "cADkv7JePfKa"
      },
      "execution_count": null,
      "outputs": []
    },
    {
      "cell_type": "code",
      "source": [
        "# 1\n",
        "print(str1.split(\" \"))"
      ],
      "metadata": {
        "colab": {
          "base_uri": "https://localhost:8080/"
        },
        "id": "bSPn-t7TRkPY",
        "outputId": "8bd2fa6a-afa0-4fc2-aaab-7ade3c379fe2"
      },
      "execution_count": null,
      "outputs": [
        {
          "output_type": "stream",
          "name": "stdout",
          "text": [
            "['파이썬은', 'awesome한', '언어이다.']\n"
          ]
        }
      ]
    },
    {
      "cell_type": "code",
      "source": [
        "print(str2.split(\", \"))\n",
        "print(str2.replace(\",\",\"\").split(\" \"))"
      ],
      "metadata": {
        "colab": {
          "base_uri": "https://localhost:8080/"
        },
        "id": "z7Zrt6i0Rtw6",
        "outputId": "f8534dca-3357-42b8-bcd6-830609ab0375"
      },
      "execution_count": null,
      "outputs": [
        {
          "output_type": "stream",
          "name": "stdout",
          "text": [
            "['인공지능', '머신러닝', '딥러닝']\n",
            "['인공지능', '머신러닝', '딥러닝']\n"
          ]
        }
      ]
    },
    {
      "cell_type": "code",
      "source": [
        "A = 30\n",
        "B = 40\n",
        "C = 50\n",
        "\n",
        "print(\"A = {}, B = {}, C = {}\".format(A,B,C))\n",
        "print(f\"A = {A}, B = {B}, C = {C}\")"
      ],
      "metadata": {
        "colab": {
          "base_uri": "https://localhost:8080/"
        },
        "id": "liqjXG9TR6yL",
        "outputId": "7ceb6baf-9518-4662-8138-16bcff28e885"
      },
      "execution_count": null,
      "outputs": [
        {
          "output_type": "stream",
          "name": "stdout",
          "text": [
            "A = 30, B = 40, C = 50\n",
            "A = 30, B = 40, C = 50\n"
          ]
        }
      ]
    },
    {
      "cell_type": "code",
      "source": [
        "L = ['a','b','c','d',1,2,3,4]\n",
        "print(L[0], L[3], L[-1])"
      ],
      "metadata": {
        "colab": {
          "base_uri": "https://localhost:8080/"
        },
        "id": "F58mEY2-TG-I",
        "outputId": "71236de8-f75c-4596-bd97-9227ba5194b8"
      },
      "execution_count": null,
      "outputs": [
        {
          "output_type": "stream",
          "name": "stdout",
          "text": [
            "a d 4\n"
          ]
        }
      ]
    },
    {
      "cell_type": "code",
      "source": [
        "print(\"0번째: {}, 3번째: {}\".format(L[0], L[3]))"
      ],
      "metadata": {
        "colab": {
          "base_uri": "https://localhost:8080/"
        },
        "id": "ChblPEdXUdJ3",
        "outputId": "0b46ba2d-88ac-45b6-d2a5-947dbd24e24c"
      },
      "execution_count": null,
      "outputs": [
        {
          "output_type": "stream",
          "name": "stdout",
          "text": [
            "0번째: a, 3번째: d\n"
          ]
        }
      ]
    },
    {
      "cell_type": "code",
      "source": [
        "L[1] = 'B'\n",
        "L"
      ],
      "metadata": {
        "colab": {
          "base_uri": "https://localhost:8080/"
        },
        "id": "0LD6TxUsU5u_",
        "outputId": "13230296-1b07-4fa6-bbbe-3872957287d1"
      },
      "execution_count": null,
      "outputs": [
        {
          "output_type": "execute_result",
          "data": {
            "text/plain": [
              "['a', 'B', 'c', 'd', 1, 2, 3, 4]"
            ]
          },
          "metadata": {},
          "execution_count": 16
        }
      ]
    },
    {
      "cell_type": "code",
      "source": [
        "a = [1,2,3]\n",
        "a.extend([4,5,6])\n",
        "a"
      ],
      "metadata": {
        "colab": {
          "base_uri": "https://localhost:8080/"
        },
        "id": "KFZWoaFlVKFb",
        "outputId": "81e17967-0330-437b-c2f5-6bd0ce83f210"
      },
      "execution_count": null,
      "outputs": [
        {
          "output_type": "execute_result",
          "data": {
            "text/plain": [
              "[1, 2, 3, 4, 5, 6]"
            ]
          },
          "metadata": {},
          "execution_count": 17
        }
      ]
    },
    {
      "cell_type": "code",
      "source": [
        "a.pop(1)\n",
        "a"
      ],
      "metadata": {
        "colab": {
          "base_uri": "https://localhost:8080/"
        },
        "id": "L620K--yVY5G",
        "outputId": "d43058af-96a0-426e-ec2e-798f1f3d24f4"
      },
      "execution_count": null,
      "outputs": [
        {
          "output_type": "execute_result",
          "data": {
            "text/plain": [
              "[1, 3, 4, 5, 6]"
            ]
          },
          "metadata": {},
          "execution_count": 18
        }
      ]
    },
    {
      "cell_type": "code",
      "source": [
        "L = [[1,2,3,[10,20,30,40,50]], [4,5,6]]\n",
        "print(len(L[0]))"
      ],
      "metadata": {
        "colab": {
          "base_uri": "https://localhost:8080/"
        },
        "id": "SwIX1hgZVf-P",
        "outputId": "629d2414-774e-4116-dfc1-4e4e2cb2d65c"
      },
      "execution_count": null,
      "outputs": [
        {
          "output_type": "stream",
          "name": "stdout",
          "text": [
            "4\n"
          ]
        }
      ]
    },
    {
      "cell_type": "code",
      "source": [
        "print(L[0][3][:4])"
      ],
      "metadata": {
        "colab": {
          "base_uri": "https://localhost:8080/"
        },
        "id": "UcSbxOZLWGu0",
        "outputId": "bf51afe9-a589-4c84-ee5b-d20ec42d7d67"
      },
      "execution_count": null,
      "outputs": [
        {
          "output_type": "stream",
          "name": "stdout",
          "text": [
            "[10, 20, 30, 40]\n"
          ]
        }
      ]
    },
    {
      "cell_type": "code",
      "source": [
        "t = 1,2,3\n",
        "l = list(t)\n",
        "l"
      ],
      "metadata": {
        "colab": {
          "base_uri": "https://localhost:8080/"
        },
        "id": "YlwkzMIAWSVP",
        "outputId": "c0cd5958-3013-46c5-99d7-97a756bce453"
      },
      "execution_count": null,
      "outputs": [
        {
          "output_type": "execute_result",
          "data": {
            "text/plain": [
              "[1, 2, 3]"
            ]
          },
          "metadata": {},
          "execution_count": 21
        }
      ]
    },
    {
      "cell_type": "code",
      "source": [
        "t1 = tuple(l)\n",
        "t1"
      ],
      "metadata": {
        "id": "DsRLVIGQWnH_",
        "outputId": "c177c52c-65c7-467e-cc20-6f2338c754df",
        "colab": {
          "base_uri": "https://localhost:8080/"
        }
      },
      "execution_count": null,
      "outputs": [
        {
          "output_type": "execute_result",
          "data": {
            "text/plain": [
              "(1, 2, 3)"
            ]
          },
          "metadata": {},
          "execution_count": 22
        }
      ]
    },
    {
      "cell_type": "code",
      "source": [],
      "metadata": {
        "id": "eVsCdYpzWtRv"
      },
      "execution_count": null,
      "outputs": []
    }
  ]
}