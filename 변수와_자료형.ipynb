{
  "nbformat": 4,
  "nbformat_minor": 0,
  "metadata": {
    "colab": {
      "provenance": [],
      "authorship_tag": "ABX9TyNOvQ1y4evCm8oTPtuZgeg8",
      "include_colab_link": true
    },
    "kernelspec": {
      "name": "python3",
      "display_name": "Python 3"
    },
    "language_info": {
      "name": "python"
    }
  },
  "cells": [
    {
      "cell_type": "markdown",
      "metadata": {
        "id": "view-in-github",
        "colab_type": "text"
      },
      "source": [
        "<a href=\"https://colab.research.google.com/github/blbt123/TIS/blob/main/%EB%B3%80%EC%88%98%EC%99%80_%EC%9E%90%EB%A3%8C%ED%98%95.ipynb\" target=\"_parent\"><img src=\"https://colab.research.google.com/assets/colab-badge.svg\" alt=\"Open In Colab\"/></a>"
      ]
    },
    {
      "cell_type": "markdown",
      "source": [
        "## **변수와 자료형**\n",
        "- **변수**: 어떤 값을 저장하고 있는 공간\n",
        "- **할당**: 특정한 값을 변수에 저장하는 것\n",
        "- **형식**: 변수 = 변수에 저장할 값"
      ],
      "metadata": {
        "id": "Y5xhSP6pQJDK"
      }
    },
    {
      "cell_type": "markdown",
      "source": [],
      "metadata": {
        "id": "EGrPCwUQUpjM"
      }
    },
    {
      "cell_type": "code",
      "execution_count": 1,
      "metadata": {
        "id": "7ACVLQgCQHYM"
      },
      "outputs": [],
      "source": [
        "a = 1\n",
        "b = 2\n",
        "c = \"안녕하세요\""
      ]
    },
    {
      "cell_type": "markdown",
      "source": [
        "- 변수를 출력  \n",
        "  print(변수1, 변수2, ...)"
      ],
      "metadata": {
        "id": "vNgtFSqgRCSN"
      }
    },
    {
      "cell_type": "code",
      "source": [
        "print(a, b, c)"
      ],
      "metadata": {
        "colab": {
          "base_uri": "https://localhost:8080/"
        },
        "id": "HHEcOQQLQ856",
        "outputId": "c0aa78d3-e484-4ec9-efa2-4909a14ebb6f"
      },
      "execution_count": 2,
      "outputs": [
        {
          "output_type": "stream",
          "name": "stdout",
          "text": [
            "1 2 안녕하세요\n"
          ]
        }
      ]
    },
    {
      "cell_type": "markdown",
      "source": [
        "- **식별자(identifier)**  \n",
        "  변수 등 객체를 식별하는데 사용, 영어 알파벳 또는 언더바(_)로 시작해야 한다. \n",
        "- **자료형(data type)**  \n",
        "  저장하는 값의 종류, 자료형에 따라 변수의 특성과 사용할 수 있는 연산이 달라진다."
      ],
      "metadata": {
        "id": "tr7EBjx-R267"
      }
    },
    {
      "cell_type": "code",
      "source": [
        "# 숫자형과 문자형 조합\n",
        "\n",
        "a + c"
      ],
      "metadata": {
        "colab": {
          "base_uri": "https://localhost:8080/",
          "height": 209
        },
        "id": "qMwVvx26RU9J",
        "outputId": "e4c83d9f-8f3b-4b91-f10e-e79dc23285e2"
      },
      "execution_count": 5,
      "outputs": [
        {
          "output_type": "error",
          "ename": "TypeError",
          "evalue": "ignored",
          "traceback": [
            "\u001b[0;31m---------------------------------------------------------------------------\u001b[0m",
            "\u001b[0;31mTypeError\u001b[0m                                 Traceback (most recent call last)",
            "\u001b[0;32m<ipython-input-5-2f02a6e5f035>\u001b[0m in \u001b[0;36m<module>\u001b[0;34m\u001b[0m\n\u001b[1;32m      1\u001b[0m \u001b[0;31m# 숫자형과 문자형 조합\u001b[0m\u001b[0;34m\u001b[0m\u001b[0;34m\u001b[0m\u001b[0;34m\u001b[0m\u001b[0m\n\u001b[1;32m      2\u001b[0m \u001b[0;34m\u001b[0m\u001b[0m\n\u001b[0;32m----> 3\u001b[0;31m \u001b[0ma\u001b[0m \u001b[0;34m+\u001b[0m \u001b[0mc\u001b[0m\u001b[0;34m\u001b[0m\u001b[0;34m\u001b[0m\u001b[0m\n\u001b[0m",
            "\u001b[0;31mTypeError\u001b[0m: unsupported operand type(s) for +: 'int' and 'str'"
          ]
        }
      ]
    },
    {
      "cell_type": "code",
      "source": [
        "# 숫자형 변수와 문자 입력\n",
        "\n",
        "a + \"안녕하세요\""
      ],
      "metadata": {
        "colab": {
          "base_uri": "https://localhost:8080/",
          "height": 172
        },
        "id": "D47uDhZtTCpr",
        "outputId": "f9446dbc-65bf-4014-93b9-e2b00170e3fe"
      },
      "execution_count": 4,
      "outputs": [
        {
          "output_type": "error",
          "ename": "TypeError",
          "evalue": "ignored",
          "traceback": [
            "\u001b[0;31m---------------------------------------------------------------------------\u001b[0m",
            "\u001b[0;31mTypeError\u001b[0m                                 Traceback (most recent call last)",
            "\u001b[0;32m<ipython-input-4-4b8a207edcba>\u001b[0m in \u001b[0;36m<module>\u001b[0;34m\u001b[0m\n\u001b[0;32m----> 1\u001b[0;31m \u001b[0ma\u001b[0m \u001b[0;34m+\u001b[0m \u001b[0;34m\"안녕하세요\"\u001b[0m\u001b[0;34m\u001b[0m\u001b[0;34m\u001b[0m\u001b[0m\n\u001b[0m",
            "\u001b[0;31mTypeError\u001b[0m: unsupported operand type(s) for +: 'int' and 'str'"
          ]
        }
      ]
    },
    {
      "cell_type": "markdown",
      "source": [
        "위와 같이 형식이 일치하지 않으면 오류를 밷어내기도 한다.  \n",
        "int: 정수형, str: 문자형"
      ],
      "metadata": {
        "id": "A-9M1hk9TH-c"
      }
    }
  ]
}